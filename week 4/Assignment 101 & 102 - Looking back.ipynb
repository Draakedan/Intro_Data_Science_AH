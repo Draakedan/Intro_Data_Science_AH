{
 "cells": [
  {
   "cell_type": "markdown",
   "metadata": {},
   "source": [
    "# Portfolio assignment 101"
   ]
  },
  {
   "cell_type": "markdown",
   "metadata": {},
   "source": [
    "## Looking back on 'What is Data Science'"
   ]
  },
  {
   "cell_type": "markdown",
   "metadata": {},
   "source": [
    "The definiton of Data Science that is taken and used in the sheet that has been made in assignment 1 is one that I still stand by. There is nothing that I wish to change to it, allthough for another time I would ensure that I use multiple sources and that I take more time for the assignment as a whole, even if it means going back to it after class to change it."
   ]
  },
  {
   "cell_type": "markdown",
   "metadata": {},
   "source": [
    "## Looking back at all assingments"
   ]
  },
  {
   "cell_type": "markdown",
   "metadata": {},
   "source": [
    "Data Science is analysing data and extracting information of it. When analysing data you'll use mathimatical formulas and a bit of machine learning (as a tool). It is also practical to have some domain knowledge about the data you'll work with. an example of a workflow for a Data scientist is described below:\n",
    "\n",
    "For analysing the data you'll start by getting to know the dataseet. For this you'll be starting with a multivariate analysis (nummerical and categorical, assignments 3, 5 & 6) and make histograms and confidence interval calculations (assignments 7 + 8). These analysis can be viewed as the Buisness Understanding part of the Data Science lifecycle.\n",
    "\n",
    "The second step that you do after finishing the univariate analysis, is making a bivariate analysis on Numerical vs Numerical data, Numerical vs Categorical data and Categorical vs Categorical data. (assignments 9 - 14). In these analysis you'll be able to see the correlations between different categories and therefore allready be able to extract some data. In terms of the Data Science lifecycle these analysis are the Data Aquisition & Understanding\n",
    "\n",
    "Next you could make a desicion tree to predict what category (or species) a data row will fit in. the effectiveness of the decision tree can be tested using an accuracy calculation or by calculating the RMSE (assignment 16 - 18). if there are no known categories for the given data clusters can be created using the K-Means (assingment 19). The predicting of the data categories can be viewed as the Deployment stage of the Data Science lifecycle and the Creating of clusters would fit in the the Modeling Phase."
   ]
  },
  {
   "cell_type": "markdown",
   "metadata": {},
   "source": [
    "# Portfolio assignemt 102"
   ]
  },
  {
   "cell_type": "markdown",
   "metadata": {},
   "source": [
    "Without being aware of it I have completed this assingment while creating the 'Looking back at all assingments' chapter seen above, so view that chapter for the results of this assignment."
   ]
  }
 ],
 "metadata": {
  "kernelspec": {
   "display_name": "Python 3",
   "language": "python",
   "name": "python3"
  },
  "language_info": {
   "codemirror_mode": {
    "name": "ipython",
    "version": 3
   },
   "file_extension": ".py",
   "mimetype": "text/x-python",
   "name": "python",
   "nbconvert_exporter": "python",
   "pygments_lexer": "ipython3",
   "version": "3.8.5"
  }
 },
 "nbformat": 4,
 "nbformat_minor": 4
}
