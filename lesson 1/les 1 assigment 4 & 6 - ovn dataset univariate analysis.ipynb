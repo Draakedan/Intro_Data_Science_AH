{
 "cells": [
  {
   "cell_type": "code",
   "execution_count": 1,
   "metadata": {},
   "outputs": [],
   "source": [
    "import pandas as pd"
   ]
  },
  {
   "cell_type": "code",
   "execution_count": 22,
   "metadata": {},
   "outputs": [],
   "source": [
    "file = \"/Users/Lenovo/notebooks/games.csv\""
   ]
  },
  {
   "cell_type": "markdown",
   "metadata": {},
   "source": [
    "## all coloums"
   ]
  },
  {
   "cell_type": "code",
   "execution_count": 27,
   "metadata": {},
   "outputs": [
    {
     "data": {
      "text/html": [
       "<div>\n",
       "<style scoped>\n",
       "    .dataframe tbody tr th:only-of-type {\n",
       "        vertical-align: middle;\n",
       "    }\n",
       "\n",
       "    .dataframe tbody tr th {\n",
       "        vertical-align: top;\n",
       "    }\n",
       "\n",
       "    .dataframe thead th {\n",
       "        text-align: right;\n",
       "    }\n",
       "</style>\n",
       "<table border=\"1\" class=\"dataframe\">\n",
       "  <thead>\n",
       "    <tr style=\"text-align: right;\">\n",
       "      <th></th>\n",
       "      <th>id</th>\n",
       "      <th>title</th>\n",
       "      <th>price_ig</th>\n",
       "      <th>discount</th>\n",
       "      <th>price_retail</th>\n",
       "      <th>price_steam</th>\n",
       "      <th>region</th>\n",
       "      <th>DLC</th>\n",
       "      <th>platform</th>\n",
       "      <th>link</th>\n",
       "      <th>availability</th>\n",
       "      <th>genre</th>\n",
       "      <th>languages</th>\n",
       "      <th>release_date</th>\n",
       "      <th>user_rating</th>\n",
       "      <th>number_comments</th>\n",
       "      <th>review</th>\n",
       "      <th>rating_review</th>\n",
       "    </tr>\n",
       "  </thead>\n",
       "  <tbody>\n",
       "    <tr>\n",
       "      <th>0</th>\n",
       "      <td>1</td>\n",
       "      <td>FIFA 21</td>\n",
       "      <td>39.69</td>\n",
       "      <td>-34%</td>\n",
       "      <td>60.0</td>\n",
       "      <td>59.99</td>\n",
       "      <td>Worldwide</td>\n",
       "      <td>0</td>\n",
       "      <td>Origin</td>\n",
       "      <td>https://www.instant-gaming.com/en/6890-buy-gam...</td>\n",
       "      <td>In stock</td>\n",
       "      <td>Multiplayer Simulation Sports Soccer Runner Pv...</td>\n",
       "      <td>cn de en es fr it jp kr pl pt ru</td>\n",
       "      <td>9 October 2020</td>\n",
       "      <td>48.0</td>\n",
       "      <td>50.0</td>\n",
       "      <td>This game is boring  i have bought it from EA ...</td>\n",
       "      <td>30.0</td>\n",
       "    </tr>\n",
       "    <tr>\n",
       "      <th>1</th>\n",
       "      <td>2</td>\n",
       "      <td>Watch Dogs Legion</td>\n",
       "      <td>47.49</td>\n",
       "      <td>-21%</td>\n",
       "      <td>60.0</td>\n",
       "      <td>NaN</td>\n",
       "      <td>Worldwide</td>\n",
       "      <td>0</td>\n",
       "      <td>Uplay</td>\n",
       "      <td>https://www.instant-gaming.com/en/2540-buy-gam...</td>\n",
       "      <td>In stock</td>\n",
       "      <td>GeForce Now Action Adventure Cooperation Multi...</td>\n",
       "      <td>cn de en es fr it jp kr pl ru</td>\n",
       "      <td>29 October 2020</td>\n",
       "      <td>61.0</td>\n",
       "      <td>20.0</td>\n",
       "      <td>Après un second volet moins mature que son aîn...</td>\n",
       "      <td>70.0</td>\n",
       "    </tr>\n",
       "    <tr>\n",
       "      <th>2</th>\n",
       "      <td>3</td>\n",
       "      <td>FIFA 21: 2200 FUT Points</td>\n",
       "      <td>15.89</td>\n",
       "      <td>-21%</td>\n",
       "      <td>20.0</td>\n",
       "      <td>NaN</td>\n",
       "      <td>Worldwide</td>\n",
       "      <td>1</td>\n",
       "      <td>Origin</td>\n",
       "      <td>https://www.instant-gaming.com/en/7275-buy-gam...</td>\n",
       "      <td>In stock</td>\n",
       "      <td>Multiplayer Simulation Sports Soccer Football ...</td>\n",
       "      <td>Multi</td>\n",
       "      <td>9 October 2020</td>\n",
       "      <td>65.0</td>\n",
       "      <td>1.0</td>\n",
       "      <td>Mal wieder viel zu teuer für jedes jahr das gl...</td>\n",
       "      <td>30.0</td>\n",
       "    </tr>\n",
       "    <tr>\n",
       "      <th>3</th>\n",
       "      <td>4</td>\n",
       "      <td>Dead by Daylight</td>\n",
       "      <td>5.48</td>\n",
       "      <td>-73%</td>\n",
       "      <td>20.0</td>\n",
       "      <td>19.99</td>\n",
       "      <td>Worldwide</td>\n",
       "      <td>0</td>\n",
       "      <td>Steam</td>\n",
       "      <td>https://www.instant-gaming.com/en/1904-buy-gam...</td>\n",
       "      <td>In stock</td>\n",
       "      <td>GeForce Now Action Cooperation Multiplayer Str...</td>\n",
       "      <td>cn de en es fr it jp kr pl pt ru</td>\n",
       "      <td>14 June 2016</td>\n",
       "      <td>83.0</td>\n",
       "      <td>382.0</td>\n",
       "      <td>All around great game. With friends  it is gre...</td>\n",
       "      <td>90.0</td>\n",
       "    </tr>\n",
       "    <tr>\n",
       "      <th>4</th>\n",
       "      <td>5</td>\n",
       "      <td>Minecraft</td>\n",
       "      <td>19.49</td>\n",
       "      <td>-19%</td>\n",
       "      <td>24.0</td>\n",
       "      <td>NaN</td>\n",
       "      <td>Worldwide</td>\n",
       "      <td>0</td>\n",
       "      <td>Other platform</td>\n",
       "      <td>https://www.instant-gaming.com/en/442-buy-game...</td>\n",
       "      <td>In stock</td>\n",
       "      <td>Management Mac Multiplayer RPG VR</td>\n",
       "      <td>Multi</td>\n",
       "      <td>19 November 2011</td>\n",
       "      <td>90.0</td>\n",
       "      <td>541.0</td>\n",
       "      <td>Best game ever god sandboxgame adn a lot of ga...</td>\n",
       "      <td>100.0</td>\n",
       "    </tr>\n",
       "  </tbody>\n",
       "</table>\n",
       "</div>"
      ],
      "text/plain": [
       "   id                     title  price_ig discount  price_retail price_steam  \\\n",
       "0   1                   FIFA 21     39.69     -34%          60.0       59.99   \n",
       "1   2         Watch Dogs Legion     47.49     -21%          60.0         NaN   \n",
       "2   3  FIFA 21: 2200 FUT Points     15.89     -21%          20.0         NaN   \n",
       "3   4          Dead by Daylight      5.48     -73%          20.0       19.99   \n",
       "4   5                 Minecraft     19.49     -19%          24.0         NaN   \n",
       "\n",
       "      region  DLC        platform  \\\n",
       "0  Worldwide    0          Origin   \n",
       "1  Worldwide    0           Uplay   \n",
       "2  Worldwide    1          Origin   \n",
       "3  Worldwide    0           Steam   \n",
       "4  Worldwide    0  Other platform   \n",
       "\n",
       "                                                link availability  \\\n",
       "0  https://www.instant-gaming.com/en/6890-buy-gam...     In stock   \n",
       "1  https://www.instant-gaming.com/en/2540-buy-gam...     In stock   \n",
       "2  https://www.instant-gaming.com/en/7275-buy-gam...     In stock   \n",
       "3  https://www.instant-gaming.com/en/1904-buy-gam...     In stock   \n",
       "4  https://www.instant-gaming.com/en/442-buy-game...     In stock   \n",
       "\n",
       "                                               genre  \\\n",
       "0  Multiplayer Simulation Sports Soccer Runner Pv...   \n",
       "1  GeForce Now Action Adventure Cooperation Multi...   \n",
       "2  Multiplayer Simulation Sports Soccer Football ...   \n",
       "3  GeForce Now Action Cooperation Multiplayer Str...   \n",
       "4                  Management Mac Multiplayer RPG VR   \n",
       "\n",
       "                          languages      release_date  user_rating  \\\n",
       "0  cn de en es fr it jp kr pl pt ru    9 October 2020         48.0   \n",
       "1     cn de en es fr it jp kr pl ru   29 October 2020         61.0   \n",
       "2                             Multi    9 October 2020         65.0   \n",
       "3  cn de en es fr it jp kr pl pt ru      14 June 2016         83.0   \n",
       "4                             Multi  19 November 2011         90.0   \n",
       "\n",
       "   number_comments                                             review  \\\n",
       "0             50.0  This game is boring  i have bought it from EA ...   \n",
       "1             20.0  Après un second volet moins mature que son aîn...   \n",
       "2              1.0  Mal wieder viel zu teuer für jedes jahr das gl...   \n",
       "3            382.0  All around great game. With friends  it is gre...   \n",
       "4            541.0  Best game ever god sandboxgame adn a lot of ga...   \n",
       "\n",
       "   rating_review  \n",
       "0           30.0  \n",
       "1           70.0  \n",
       "2           30.0  \n",
       "3           90.0  \n",
       "4          100.0  "
      ]
     },
     "execution_count": 27,
     "metadata": {},
     "output_type": "execute_result"
    }
   ],
   "source": [
    "gameData = pd.read_csv(file)\n",
    "gameData.head()"
   ]
  },
  {
   "cell_type": "markdown",
   "metadata": {},
   "source": [
    "## region coloum"
   ]
  },
  {
   "cell_type": "code",
   "execution_count": 28,
   "metadata": {},
   "outputs": [
    {
     "data": {
      "text/plain": [
       "array(['Worldwide', 'Europe', 'EUR', 'ES', 'europe'], dtype=object)"
      ]
     },
     "execution_count": 28,
     "metadata": {},
     "output_type": "execute_result"
    }
   ],
   "source": [
    "gameData['region'].unique()"
   ]
  },
  {
   "cell_type": "code",
   "execution_count": 29,
   "metadata": {},
   "outputs": [
    {
     "data": {
      "text/plain": [
       "Worldwide    5830\n",
       "Europe        945\n",
       "ES             83\n",
       "EUR             4\n",
       "europe          1\n",
       "Name: region, dtype: int64"
      ]
     },
     "execution_count": 29,
     "metadata": {},
     "output_type": "execute_result"
    }
   ],
   "source": [
    "gameData['region'].value_counts()"
   ]
  },
  {
   "cell_type": "code",
   "execution_count": 30,
   "metadata": {},
   "outputs": [
    {
     "data": {
      "text/plain": [
       "<AxesSubplot:>"
      ]
     },
     "execution_count": 30,
     "metadata": {},
     "output_type": "execute_result"
    },
    {
     "data": {
      "image/png": "[encoded data removed]",
      "text/plain": [
       "<Figure size 432x288 with 1 Axes>"
      ]
     },
     "metadata": {
      "needs_background": "light"
     },
     "output_type": "display_data"
    }
   ],
   "source": [
    "gameData['region'].value_counts().plot.bar()"
   ]
  },
  {
   "cell_type": "markdown",
   "metadata": {},
   "source": [
    "## platform coloum"
   ]
  },
  {
   "cell_type": "code",
   "execution_count": 34,
   "metadata": {},
   "outputs": [
    {
     "data": {
      "text/plain": [
       "array(['Origin', 'Uplay', 'Steam', 'Other platform', nan, 'Rockstar',\n",
       "       'Xbox', 'Battle.net', 'Xbox Play Anywhere', 'Software', 'Nintendo',\n",
       "       'Bethesda', 'GOG.com', 'Playstation', 'Epic Games',\n",
       "       'Microsoft Store', 'Ncsoft', 'STEAM'], dtype=object)"
      ]
     },
     "execution_count": 34,
     "metadata": {},
     "output_type": "execute_result"
    }
   ],
   "source": [
    "gameData['platform'].unique()"
   ]
  },
  {
   "cell_type": "code",
   "execution_count": 35,
   "metadata": {},
   "outputs": [
    {
     "data": {
      "text/plain": [
       "Steam                 5005\n",
       "Xbox                   611\n",
       "Nintendo               326\n",
       "Uplay                  199\n",
       "Origin                 191\n",
       "Playstation            141\n",
       "Other platform          95\n",
       "Epic Games              82\n",
       "Xbox Play Anywhere      48\n",
       "Battle.net              37\n",
       "Rockstar                21\n",
       "GOG.com                 15\n",
       "Bethesda                14\n",
       "Microsoft Store         11\n",
       "Ncsoft                   7\n",
       "Software                 4\n",
       "STEAM                    1\n",
       "Name: platform, dtype: int64"
      ]
     },
     "execution_count": 35,
     "metadata": {},
     "output_type": "execute_result"
    }
   ],
   "source": [
    "gameData['platform'].value_counts()"
   ]
  },
  {
   "cell_type": "code",
   "execution_count": 37,
   "metadata": {},
   "outputs": [
    {
     "data": {
      "text/plain": [
       "<AxesSubplot:>"
      ]
     },
     "execution_count": 37,
     "metadata": {},
     "output_type": "execute_result"
    },
    {
     "data": {
      "image/png": "[encoded data removed]",
      "text/plain": [
       "<Figure size 432x288 with 1 Axes>"
      ]
     },
     "metadata": {
      "needs_background": "light"
     },
     "output_type": "display_data"
    }
   ],
   "source": [
    "gameData['platform'].value_counts().plot.bar()"
   ]
  },
  {
   "cell_type": "markdown",
   "metadata": {},
   "source": [
    "## price_retail coloum"
   ]
  },
  {
   "cell_type": "code",
   "execution_count": 40,
   "metadata": {},
   "outputs": [
    {
     "data": {
      "text/plain": [
       "count    3594.000000\n",
       "mean       79.604341\n",
       "std        17.018297\n",
       "min        10.000000\n",
       "25%        73.000000\n",
       "50%        84.000000\n",
       "75%        90.000000\n",
       "max       100.000000\n",
       "Name: user_rating, dtype: float64"
      ]
     },
     "execution_count": 40,
     "metadata": {},
     "output_type": "execute_result"
    }
   ],
   "source": [
    "gameData['user_rating'].describe()"
   ]
  },
  {
   "cell_type": "code",
   "execution_count": 43,
   "metadata": {},
   "outputs": [
    {
     "data": {
      "text/plain": [
       "<AxesSubplot:ylabel='Frequency'>"
      ]
     },
     "execution_count": 43,
     "metadata": {},
     "output_type": "execute_result"
    },
    {
     "data": {
      "image/png": "[encoded data removed]",
      "text/plain": [
       "<Figure size 432x288 with 1 Axes>"
      ]
     },
     "metadata": {
      "needs_background": "light"
     },
     "output_type": "display_data"
    }
   ],
   "source": [
    "gameData['user_rating'].plot.hist(bins=10)"
   ]
  },
  {
   "cell_type": "code",
   "execution_count": 47,
   "metadata": {},
   "outputs": [
    {
     "data": {
      "text/plain": [
       "<AxesSubplot:>"
      ]
     },
     "execution_count": 47,
     "metadata": {},
     "output_type": "execute_result"
    },
    {
     "data": {
      "image/png": "[encoded data removed]",
      "text/plain": [
       "<Figure size 432x288 with 1 Axes>"
      ]
     },
     "metadata": {
      "needs_background": "light"
     },
     "output_type": "display_data"
    }
   ],
   "source": [
    "gameData['user_rating'].plot.box(vert = False)"
   ]
  },
  {
   "cell_type": "markdown",
   "metadata": {},
   "source": [
    "## rating_review coloum"
   ]
  },
  {
   "cell_type": "code",
   "execution_count": 48,
   "metadata": {},
   "outputs": [
    {
     "data": {
      "text/plain": [
       "count    3604.000000\n",
       "mean       81.911765\n",
       "std        23.430044\n",
       "min        10.000000\n",
       "25%        80.000000\n",
       "50%        90.000000\n",
       "75%       100.000000\n",
       "max       100.000000\n",
       "Name: rating_review, dtype: float64"
      ]
     },
     "execution_count": 48,
     "metadata": {},
     "output_type": "execute_result"
    }
   ],
   "source": [
    "gameData['rating_review'].describe()"
   ]
  },
  {
   "cell_type": "code",
   "execution_count": 49,
   "metadata": {},
   "outputs": [
    {
     "data": {
      "text/plain": [
       "<AxesSubplot:ylabel='Frequency'>"
      ]
     },
     "execution_count": 49,
     "metadata": {},
     "output_type": "execute_result"
    },
    {
     "data": {
      "image/png": "[encoded data removed]",
      "text/plain": [
       "<Figure size 432x288 with 1 Axes>"
      ]
     },
     "metadata": {
      "needs_background": "light"
     },
     "output_type": "display_data"
    }
   ],
   "source": [
    "gameData['rating_review'].plot.hist(bins = 10)"
   ]
  },
  {
   "cell_type": "code",
   "execution_count": 51,
   "metadata": {},
   "outputs": [
    {
     "data": {
      "text/plain": [
       "<AxesSubplot:>"
      ]
     },
     "execution_count": 51,
     "metadata": {},
     "output_type": "execute_result"
    },
    {
     "data": {
      "image/png": "[encoded data removed]",
      "text/plain": [
       "<Figure size 432x288 with 1 Axes>"
      ]
     },
     "metadata": {
      "needs_background": "light"
     },
     "output_type": "display_data"
    }
   ],
   "source": [
    "gameData['rating_review'].plot.box(vert = False)"
   ]
  }
 ],
 "metadata": {
  "kernelspec": {
   "display_name": "Python 3",
   "language": "python",
   "name": "python3"
  },
  "language_info": {
   "codemirror_mode": {
    "name": "ipython",
    "version": 3
   },
   "file_extension": ".py",
   "mimetype": "text/x-python",
   "name": "python",
   "nbconvert_exporter": "python",
   "pygments_lexer": "ipython3",
   "version": "3.8.5"
  }
 },
 "nbformat": 4,
 "nbformat_minor": 4
}
