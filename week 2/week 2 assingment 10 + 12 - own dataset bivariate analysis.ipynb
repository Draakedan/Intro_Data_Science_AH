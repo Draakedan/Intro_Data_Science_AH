{
 "cells": [
  {
   "cell_type": "code",
   "execution_count": 3,
   "metadata": {},
   "outputs": [],
   "source": [
    "import pandas as pd"
   ]
  },
  {
   "cell_type": "code",
   "execution_count": 9,
   "metadata": {},
   "outputs": [],
   "source": [
    "import seaborn as sns"
   ]
  },
  {
   "cell_type": "code",
   "execution_count": 4,
   "metadata": {},
   "outputs": [],
   "source": [
    "file = \"/Users/Lenovo/notebooks/games.csv\""
   ]
  },
  {
   "cell_type": "markdown",
   "metadata": {},
   "source": [
    "## all columns"
   ]
  },
  {
   "cell_type": "code",
   "execution_count": 5,
   "metadata": {},
   "outputs": [
    {
     "data": {
      "text/html": [
       "<div>\n",
       "<style scoped>\n",
       "    .dataframe tbody tr th:only-of-type {\n",
       "        vertical-align: middle;\n",
       "    }\n",
       "\n",
       "    .dataframe tbody tr th {\n",
       "        vertical-align: top;\n",
       "    }\n",
       "\n",
       "    .dataframe thead th {\n",
       "        text-align: right;\n",
       "    }\n",
       "</style>\n",
       "<table border=\"1\" class=\"dataframe\">\n",
       "  <thead>\n",
       "    <tr style=\"text-align: right;\">\n",
       "      <th></th>\n",
       "      <th>id</th>\n",
       "      <th>title</th>\n",
       "      <th>price_ig</th>\n",
       "      <th>discount</th>\n",
       "      <th>price_retail</th>\n",
       "      <th>price_steam</th>\n",
       "      <th>region</th>\n",
       "      <th>DLC</th>\n",
       "      <th>platform</th>\n",
       "      <th>link</th>\n",
       "      <th>availability</th>\n",
       "      <th>genre</th>\n",
       "      <th>languages</th>\n",
       "      <th>release_date</th>\n",
       "      <th>user_rating</th>\n",
       "      <th>number_comments</th>\n",
       "      <th>review</th>\n",
       "      <th>rating_review</th>\n",
       "    </tr>\n",
       "  </thead>\n",
       "  <tbody>\n",
       "    <tr>\n",
       "      <th>0</th>\n",
       "      <td>1</td>\n",
       "      <td>FIFA 21</td>\n",
       "      <td>39.69</td>\n",
       "      <td>-34%</td>\n",
       "      <td>60.0</td>\n",
       "      <td>59.99</td>\n",
       "      <td>Worldwide</td>\n",
       "      <td>0</td>\n",
       "      <td>Origin</td>\n",
       "      <td>https://www.instant-gaming.com/en/6890-buy-gam...</td>\n",
       "      <td>In stock</td>\n",
       "      <td>Multiplayer Simulation Sports Soccer Runner Pv...</td>\n",
       "      <td>cn de en es fr it jp kr pl pt ru</td>\n",
       "      <td>9 October 2020</td>\n",
       "      <td>48.0</td>\n",
       "      <td>50.0</td>\n",
       "      <td>This game is boring  i have bought it from EA ...</td>\n",
       "      <td>30.0</td>\n",
       "    </tr>\n",
       "    <tr>\n",
       "      <th>1</th>\n",
       "      <td>2</td>\n",
       "      <td>Watch Dogs Legion</td>\n",
       "      <td>47.49</td>\n",
       "      <td>-21%</td>\n",
       "      <td>60.0</td>\n",
       "      <td>NaN</td>\n",
       "      <td>Worldwide</td>\n",
       "      <td>0</td>\n",
       "      <td>Uplay</td>\n",
       "      <td>https://www.instant-gaming.com/en/2540-buy-gam...</td>\n",
       "      <td>In stock</td>\n",
       "      <td>GeForce Now Action Adventure Cooperation Multi...</td>\n",
       "      <td>cn de en es fr it jp kr pl ru</td>\n",
       "      <td>29 October 2020</td>\n",
       "      <td>61.0</td>\n",
       "      <td>20.0</td>\n",
       "      <td>Après un second volet moins mature que son aîn...</td>\n",
       "      <td>70.0</td>\n",
       "    </tr>\n",
       "    <tr>\n",
       "      <th>2</th>\n",
       "      <td>3</td>\n",
       "      <td>FIFA 21: 2200 FUT Points</td>\n",
       "      <td>15.89</td>\n",
       "      <td>-21%</td>\n",
       "      <td>20.0</td>\n",
       "      <td>NaN</td>\n",
       "      <td>Worldwide</td>\n",
       "      <td>1</td>\n",
       "      <td>Origin</td>\n",
       "      <td>https://www.instant-gaming.com/en/7275-buy-gam...</td>\n",
       "      <td>In stock</td>\n",
       "      <td>Multiplayer Simulation Sports Soccer Football ...</td>\n",
       "      <td>Multi</td>\n",
       "      <td>9 October 2020</td>\n",
       "      <td>65.0</td>\n",
       "      <td>1.0</td>\n",
       "      <td>Mal wieder viel zu teuer für jedes jahr das gl...</td>\n",
       "      <td>30.0</td>\n",
       "    </tr>\n",
       "    <tr>\n",
       "      <th>3</th>\n",
       "      <td>4</td>\n",
       "      <td>Dead by Daylight</td>\n",
       "      <td>5.48</td>\n",
       "      <td>-73%</td>\n",
       "      <td>20.0</td>\n",
       "      <td>19.99</td>\n",
       "      <td>Worldwide</td>\n",
       "      <td>0</td>\n",
       "      <td>Steam</td>\n",
       "      <td>https://www.instant-gaming.com/en/1904-buy-gam...</td>\n",
       "      <td>In stock</td>\n",
       "      <td>GeForce Now Action Cooperation Multiplayer Str...</td>\n",
       "      <td>cn de en es fr it jp kr pl pt ru</td>\n",
       "      <td>14 June 2016</td>\n",
       "      <td>83.0</td>\n",
       "      <td>382.0</td>\n",
       "      <td>All around great game. With friends  it is gre...</td>\n",
       "      <td>90.0</td>\n",
       "    </tr>\n",
       "    <tr>\n",
       "      <th>4</th>\n",
       "      <td>5</td>\n",
       "      <td>Minecraft</td>\n",
       "      <td>19.49</td>\n",
       "      <td>-19%</td>\n",
       "      <td>24.0</td>\n",
       "      <td>NaN</td>\n",
       "      <td>Worldwide</td>\n",
       "      <td>0</td>\n",
       "      <td>Other platform</td>\n",
       "      <td>https://www.instant-gaming.com/en/442-buy-game...</td>\n",
       "      <td>In stock</td>\n",
       "      <td>Management Mac Multiplayer RPG VR</td>\n",
       "      <td>Multi</td>\n",
       "      <td>19 November 2011</td>\n",
       "      <td>90.0</td>\n",
       "      <td>541.0</td>\n",
       "      <td>Best game ever god sandboxgame adn a lot of ga...</td>\n",
       "      <td>100.0</td>\n",
       "    </tr>\n",
       "  </tbody>\n",
       "</table>\n",
       "</div>"
      ],
      "text/plain": [
       "   id                     title  price_ig discount  price_retail price_steam  \\\n",
       "0   1                   FIFA 21     39.69     -34%          60.0       59.99   \n",
       "1   2         Watch Dogs Legion     47.49     -21%          60.0         NaN   \n",
       "2   3  FIFA 21: 2200 FUT Points     15.89     -21%          20.0         NaN   \n",
       "3   4          Dead by Daylight      5.48     -73%          20.0       19.99   \n",
       "4   5                 Minecraft     19.49     -19%          24.0         NaN   \n",
       "\n",
       "      region  DLC        platform  \\\n",
       "0  Worldwide    0          Origin   \n",
       "1  Worldwide    0           Uplay   \n",
       "2  Worldwide    1          Origin   \n",
       "3  Worldwide    0           Steam   \n",
       "4  Worldwide    0  Other platform   \n",
       "\n",
       "                                                link availability  \\\n",
       "0  https://www.instant-gaming.com/en/6890-buy-gam...     In stock   \n",
       "1  https://www.instant-gaming.com/en/2540-buy-gam...     In stock   \n",
       "2  https://www.instant-gaming.com/en/7275-buy-gam...     In stock   \n",
       "3  https://www.instant-gaming.com/en/1904-buy-gam...     In stock   \n",
       "4  https://www.instant-gaming.com/en/442-buy-game...     In stock   \n",
       "\n",
       "                                               genre  \\\n",
       "0  Multiplayer Simulation Sports Soccer Runner Pv...   \n",
       "1  GeForce Now Action Adventure Cooperation Multi...   \n",
       "2  Multiplayer Simulation Sports Soccer Football ...   \n",
       "3  GeForce Now Action Cooperation Multiplayer Str...   \n",
       "4                  Management Mac Multiplayer RPG VR   \n",
       "\n",
       "                          languages      release_date  user_rating  \\\n",
       "0  cn de en es fr it jp kr pl pt ru    9 October 2020         48.0   \n",
       "1     cn de en es fr it jp kr pl ru   29 October 2020         61.0   \n",
       "2                             Multi    9 October 2020         65.0   \n",
       "3  cn de en es fr it jp kr pl pt ru      14 June 2016         83.0   \n",
       "4                             Multi  19 November 2011         90.0   \n",
       "\n",
       "   number_comments                                             review  \\\n",
       "0             50.0  This game is boring  i have bought it from EA ...   \n",
       "1             20.0  Après un second volet moins mature que son aîn...   \n",
       "2              1.0  Mal wieder viel zu teuer für jedes jahr das gl...   \n",
       "3            382.0  All around great game. With friends  it is gre...   \n",
       "4            541.0  Best game ever god sandboxgame adn a lot of ga...   \n",
       "\n",
       "   rating_review  \n",
       "0           30.0  \n",
       "1           70.0  \n",
       "2           30.0  \n",
       "3           90.0  \n",
       "4          100.0  "
      ]
     },
     "execution_count": 5,
     "metadata": {},
     "output_type": "execute_result"
    }
   ],
   "source": [
    "gameData = pd.read_csv(file)\n",
    "gameData.head()"
   ]
  },
  {
   "cell_type": "code",
   "execution_count": 6,
   "metadata": {},
   "outputs": [
    {
     "data": {
      "text/html": [
       "<style  type=\"text/css\" >\n",
       "#T_3ab8805c_6ba6_11eb_864b_e82aea6b92ecrow0_col0,#T_3ab8805c_6ba6_11eb_864b_e82aea6b92ecrow1_col1,#T_3ab8805c_6ba6_11eb_864b_e82aea6b92ecrow2_col2,#T_3ab8805c_6ba6_11eb_864b_e82aea6b92ecrow3_col3,#T_3ab8805c_6ba6_11eb_864b_e82aea6b92ecrow4_col4,#T_3ab8805c_6ba6_11eb_864b_e82aea6b92ecrow5_col5,#T_3ab8805c_6ba6_11eb_864b_e82aea6b92ecrow6_col6{\n",
       "            background-color:  #b40426;\n",
       "            color:  #f1f1f1;\n",
       "        }#T_3ab8805c_6ba6_11eb_864b_e82aea6b92ecrow0_col1,#T_3ab8805c_6ba6_11eb_864b_e82aea6b92ecrow1_col0,#T_3ab8805c_6ba6_11eb_864b_e82aea6b92ecrow1_col6,#T_3ab8805c_6ba6_11eb_864b_e82aea6b92ecrow6_col1{\n",
       "            background-color:  #6180e9;\n",
       "            color:  #000000;\n",
       "        }#T_3ab8805c_6ba6_11eb_864b_e82aea6b92ecrow0_col2,#T_3ab8805c_6ba6_11eb_864b_e82aea6b92ecrow0_col3,#T_3ab8805c_6ba6_11eb_864b_e82aea6b92ecrow2_col0,#T_3ab8805c_6ba6_11eb_864b_e82aea6b92ecrow3_col0{\n",
       "            background-color:  #485fd1;\n",
       "            color:  #f1f1f1;\n",
       "        }#T_3ab8805c_6ba6_11eb_864b_e82aea6b92ecrow0_col4,#T_3ab8805c_6ba6_11eb_864b_e82aea6b92ecrow0_col6,#T_3ab8805c_6ba6_11eb_864b_e82aea6b92ecrow4_col0,#T_3ab8805c_6ba6_11eb_864b_e82aea6b92ecrow6_col0{\n",
       "            background-color:  #516ddb;\n",
       "            color:  #000000;\n",
       "        }#T_3ab8805c_6ba6_11eb_864b_e82aea6b92ecrow0_col5,#T_3ab8805c_6ba6_11eb_864b_e82aea6b92ecrow5_col0{\n",
       "            background-color:  #3f53c6;\n",
       "            color:  #f1f1f1;\n",
       "        }#T_3ab8805c_6ba6_11eb_864b_e82aea6b92ecrow1_col2,#T_3ab8805c_6ba6_11eb_864b_e82aea6b92ecrow2_col1{\n",
       "            background-color:  #f39475;\n",
       "            color:  #000000;\n",
       "        }#T_3ab8805c_6ba6_11eb_864b_e82aea6b92ecrow1_col3,#T_3ab8805c_6ba6_11eb_864b_e82aea6b92ecrow3_col1{\n",
       "            background-color:  #5470de;\n",
       "            color:  #000000;\n",
       "        }#T_3ab8805c_6ba6_11eb_864b_e82aea6b92ecrow1_col4,#T_3ab8805c_6ba6_11eb_864b_e82aea6b92ecrow2_col4,#T_3ab8805c_6ba6_11eb_864b_e82aea6b92ecrow4_col1,#T_3ab8805c_6ba6_11eb_864b_e82aea6b92ecrow4_col2{\n",
       "            background-color:  #5572df;\n",
       "            color:  #000000;\n",
       "        }#T_3ab8805c_6ba6_11eb_864b_e82aea6b92ecrow1_col5,#T_3ab8805c_6ba6_11eb_864b_e82aea6b92ecrow5_col1{\n",
       "            background-color:  #6a8bef;\n",
       "            color:  #000000;\n",
       "        }#T_3ab8805c_6ba6_11eb_864b_e82aea6b92ecrow2_col3,#T_3ab8805c_6ba6_11eb_864b_e82aea6b92ecrow3_col2{\n",
       "            background-color:  #3b4cc0;\n",
       "            color:  #f1f1f1;\n",
       "        }#T_3ab8805c_6ba6_11eb_864b_e82aea6b92ecrow2_col5,#T_3ab8805c_6ba6_11eb_864b_e82aea6b92ecrow5_col2{\n",
       "            background-color:  #7a9df8;\n",
       "            color:  #000000;\n",
       "        }#T_3ab8805c_6ba6_11eb_864b_e82aea6b92ecrow2_col6,#T_3ab8805c_6ba6_11eb_864b_e82aea6b92ecrow6_col2{\n",
       "            background-color:  #5e7de7;\n",
       "            color:  #000000;\n",
       "        }#T_3ab8805c_6ba6_11eb_864b_e82aea6b92ecrow3_col4,#T_3ab8805c_6ba6_11eb_864b_e82aea6b92ecrow4_col3{\n",
       "            background-color:  #81a4fb;\n",
       "            color:  #000000;\n",
       "        }#T_3ab8805c_6ba6_11eb_864b_e82aea6b92ecrow3_col5,#T_3ab8805c_6ba6_11eb_864b_e82aea6b92ecrow5_col3{\n",
       "            background-color:  #6282ea;\n",
       "            color:  #000000;\n",
       "        }#T_3ab8805c_6ba6_11eb_864b_e82aea6b92ecrow3_col6,#T_3ab8805c_6ba6_11eb_864b_e82aea6b92ecrow6_col3{\n",
       "            background-color:  #7699f6;\n",
       "            color:  #000000;\n",
       "        }#T_3ab8805c_6ba6_11eb_864b_e82aea6b92ecrow4_col5,#T_3ab8805c_6ba6_11eb_864b_e82aea6b92ecrow5_col4{\n",
       "            background-color:  #7da0f9;\n",
       "            color:  #000000;\n",
       "        }#T_3ab8805c_6ba6_11eb_864b_e82aea6b92ecrow4_col6,#T_3ab8805c_6ba6_11eb_864b_e82aea6b92ecrow6_col4{\n",
       "            background-color:  #f39778;\n",
       "            color:  #000000;\n",
       "        }#T_3ab8805c_6ba6_11eb_864b_e82aea6b92ecrow5_col6,#T_3ab8805c_6ba6_11eb_864b_e82aea6b92ecrow6_col5{\n",
       "            background-color:  #779af7;\n",
       "            color:  #000000;\n",
       "        }</style><table id=\"T_3ab8805c_6ba6_11eb_864b_e82aea6b92ec\" ><thead>    <tr>        <th class=\"blank level0\" ></th>        <th class=\"col_heading level0 col0\" >id</th>        <th class=\"col_heading level0 col1\" >price_ig</th>        <th class=\"col_heading level0 col2\" >price_retail</th>        <th class=\"col_heading level0 col3\" >DLC</th>        <th class=\"col_heading level0 col4\" >user_rating</th>        <th class=\"col_heading level0 col5\" >number_comments</th>        <th class=\"col_heading level0 col6\" >rating_review</th>    </tr></thead><tbody>\n",
       "                <tr>\n",
       "                        <th id=\"T_3ab8805c_6ba6_11eb_864b_e82aea6b92eclevel0_row0\" class=\"row_heading level0 row0\" >id</th>\n",
       "                        <td id=\"T_3ab8805c_6ba6_11eb_864b_e82aea6b92ecrow0_col0\" class=\"data row0 col0\" >1.00</td>\n",
       "                        <td id=\"T_3ab8805c_6ba6_11eb_864b_e82aea6b92ecrow0_col1\" class=\"data row0 col1\" >-0.03</td>\n",
       "                        <td id=\"T_3ab8805c_6ba6_11eb_864b_e82aea6b92ecrow0_col2\" class=\"data row0 col2\" >-0.12</td>\n",
       "                        <td id=\"T_3ab8805c_6ba6_11eb_864b_e82aea6b92ecrow0_col3\" class=\"data row0 col3\" >-0.12</td>\n",
       "                        <td id=\"T_3ab8805c_6ba6_11eb_864b_e82aea6b92ecrow0_col4\" class=\"data row0 col4\" >-0.08</td>\n",
       "                        <td id=\"T_3ab8805c_6ba6_11eb_864b_e82aea6b92ecrow0_col5\" class=\"data row0 col5\" >-0.15</td>\n",
       "                        <td id=\"T_3ab8805c_6ba6_11eb_864b_e82aea6b92ecrow0_col6\" class=\"data row0 col6\" >-0.08</td>\n",
       "            </tr>\n",
       "            <tr>\n",
       "                        <th id=\"T_3ab8805c_6ba6_11eb_864b_e82aea6b92eclevel0_row1\" class=\"row_heading level0 row1\" >price_ig</th>\n",
       "                        <td id=\"T_3ab8805c_6ba6_11eb_864b_e82aea6b92ecrow1_col0\" class=\"data row1 col0\" >-0.03</td>\n",
       "                        <td id=\"T_3ab8805c_6ba6_11eb_864b_e82aea6b92ecrow1_col1\" class=\"data row1 col1\" >1.00</td>\n",
       "                        <td id=\"T_3ab8805c_6ba6_11eb_864b_e82aea6b92ecrow1_col2\" class=\"data row1 col2\" >0.72</td>\n",
       "                        <td id=\"T_3ab8805c_6ba6_11eb_864b_e82aea6b92ecrow1_col3\" class=\"data row1 col3\" >-0.07</td>\n",
       "                        <td id=\"T_3ab8805c_6ba6_11eb_864b_e82aea6b92ecrow1_col4\" class=\"data row1 col4\" >-0.07</td>\n",
       "                        <td id=\"T_3ab8805c_6ba6_11eb_864b_e82aea6b92ecrow1_col5\" class=\"data row1 col5\" >0.01</td>\n",
       "                        <td id=\"T_3ab8805c_6ba6_11eb_864b_e82aea6b92ecrow1_col6\" class=\"data row1 col6\" >-0.03</td>\n",
       "            </tr>\n",
       "            <tr>\n",
       "                        <th id=\"T_3ab8805c_6ba6_11eb_864b_e82aea6b92eclevel0_row2\" class=\"row_heading level0 row2\" >price_retail</th>\n",
       "                        <td id=\"T_3ab8805c_6ba6_11eb_864b_e82aea6b92ecrow2_col0\" class=\"data row2 col0\" >-0.12</td>\n",
       "                        <td id=\"T_3ab8805c_6ba6_11eb_864b_e82aea6b92ecrow2_col1\" class=\"data row2 col1\" >0.72</td>\n",
       "                        <td id=\"T_3ab8805c_6ba6_11eb_864b_e82aea6b92ecrow2_col2\" class=\"data row2 col2\" >1.00</td>\n",
       "                        <td id=\"T_3ab8805c_6ba6_11eb_864b_e82aea6b92ecrow2_col3\" class=\"data row2 col3\" >-0.17</td>\n",
       "                        <td id=\"T_3ab8805c_6ba6_11eb_864b_e82aea6b92ecrow2_col4\" class=\"data row2 col4\" >-0.07</td>\n",
       "                        <td id=\"T_3ab8805c_6ba6_11eb_864b_e82aea6b92ecrow2_col5\" class=\"data row2 col5\" >0.06</td>\n",
       "                        <td id=\"T_3ab8805c_6ba6_11eb_864b_e82aea6b92ecrow2_col6\" class=\"data row2 col6\" >-0.04</td>\n",
       "            </tr>\n",
       "            <tr>\n",
       "                        <th id=\"T_3ab8805c_6ba6_11eb_864b_e82aea6b92eclevel0_row3\" class=\"row_heading level0 row3\" >DLC</th>\n",
       "                        <td id=\"T_3ab8805c_6ba6_11eb_864b_e82aea6b92ecrow3_col0\" class=\"data row3 col0\" >-0.12</td>\n",
       "                        <td id=\"T_3ab8805c_6ba6_11eb_864b_e82aea6b92ecrow3_col1\" class=\"data row3 col1\" >-0.07</td>\n",
       "                        <td id=\"T_3ab8805c_6ba6_11eb_864b_e82aea6b92ecrow3_col2\" class=\"data row3 col2\" >-0.17</td>\n",
       "                        <td id=\"T_3ab8805c_6ba6_11eb_864b_e82aea6b92ecrow3_col3\" class=\"data row3 col3\" >1.00</td>\n",
       "                        <td id=\"T_3ab8805c_6ba6_11eb_864b_e82aea6b92ecrow3_col4\" class=\"data row3 col4\" >0.08</td>\n",
       "                        <td id=\"T_3ab8805c_6ba6_11eb_864b_e82aea6b92ecrow3_col5\" class=\"data row3 col5\" >-0.02</td>\n",
       "                        <td id=\"T_3ab8805c_6ba6_11eb_864b_e82aea6b92ecrow3_col6\" class=\"data row3 col6\" >0.05</td>\n",
       "            </tr>\n",
       "            <tr>\n",
       "                        <th id=\"T_3ab8805c_6ba6_11eb_864b_e82aea6b92eclevel0_row4\" class=\"row_heading level0 row4\" >user_rating</th>\n",
       "                        <td id=\"T_3ab8805c_6ba6_11eb_864b_e82aea6b92ecrow4_col0\" class=\"data row4 col0\" >-0.08</td>\n",
       "                        <td id=\"T_3ab8805c_6ba6_11eb_864b_e82aea6b92ecrow4_col1\" class=\"data row4 col1\" >-0.07</td>\n",
       "                        <td id=\"T_3ab8805c_6ba6_11eb_864b_e82aea6b92ecrow4_col2\" class=\"data row4 col2\" >-0.07</td>\n",
       "                        <td id=\"T_3ab8805c_6ba6_11eb_864b_e82aea6b92ecrow4_col3\" class=\"data row4 col3\" >0.08</td>\n",
       "                        <td id=\"T_3ab8805c_6ba6_11eb_864b_e82aea6b92ecrow4_col4\" class=\"data row4 col4\" >1.00</td>\n",
       "                        <td id=\"T_3ab8805c_6ba6_11eb_864b_e82aea6b92ecrow4_col5\" class=\"data row4 col5\" >0.07</td>\n",
       "                        <td id=\"T_3ab8805c_6ba6_11eb_864b_e82aea6b92ecrow4_col6\" class=\"data row4 col6\" >0.71</td>\n",
       "            </tr>\n",
       "            <tr>\n",
       "                        <th id=\"T_3ab8805c_6ba6_11eb_864b_e82aea6b92eclevel0_row5\" class=\"row_heading level0 row5\" >number_comments</th>\n",
       "                        <td id=\"T_3ab8805c_6ba6_11eb_864b_e82aea6b92ecrow5_col0\" class=\"data row5 col0\" >-0.15</td>\n",
       "                        <td id=\"T_3ab8805c_6ba6_11eb_864b_e82aea6b92ecrow5_col1\" class=\"data row5 col1\" >0.01</td>\n",
       "                        <td id=\"T_3ab8805c_6ba6_11eb_864b_e82aea6b92ecrow5_col2\" class=\"data row5 col2\" >0.06</td>\n",
       "                        <td id=\"T_3ab8805c_6ba6_11eb_864b_e82aea6b92ecrow5_col3\" class=\"data row5 col3\" >-0.02</td>\n",
       "                        <td id=\"T_3ab8805c_6ba6_11eb_864b_e82aea6b92ecrow5_col4\" class=\"data row5 col4\" >0.07</td>\n",
       "                        <td id=\"T_3ab8805c_6ba6_11eb_864b_e82aea6b92ecrow5_col5\" class=\"data row5 col5\" >1.00</td>\n",
       "                        <td id=\"T_3ab8805c_6ba6_11eb_864b_e82aea6b92ecrow5_col6\" class=\"data row5 col6\" >0.05</td>\n",
       "            </tr>\n",
       "            <tr>\n",
       "                        <th id=\"T_3ab8805c_6ba6_11eb_864b_e82aea6b92eclevel0_row6\" class=\"row_heading level0 row6\" >rating_review</th>\n",
       "                        <td id=\"T_3ab8805c_6ba6_11eb_864b_e82aea6b92ecrow6_col0\" class=\"data row6 col0\" >-0.08</td>\n",
       "                        <td id=\"T_3ab8805c_6ba6_11eb_864b_e82aea6b92ecrow6_col1\" class=\"data row6 col1\" >-0.03</td>\n",
       "                        <td id=\"T_3ab8805c_6ba6_11eb_864b_e82aea6b92ecrow6_col2\" class=\"data row6 col2\" >-0.04</td>\n",
       "                        <td id=\"T_3ab8805c_6ba6_11eb_864b_e82aea6b92ecrow6_col3\" class=\"data row6 col3\" >0.05</td>\n",
       "                        <td id=\"T_3ab8805c_6ba6_11eb_864b_e82aea6b92ecrow6_col4\" class=\"data row6 col4\" >0.71</td>\n",
       "                        <td id=\"T_3ab8805c_6ba6_11eb_864b_e82aea6b92ecrow6_col5\" class=\"data row6 col5\" >0.05</td>\n",
       "                        <td id=\"T_3ab8805c_6ba6_11eb_864b_e82aea6b92ecrow6_col6\" class=\"data row6 col6\" >1.00</td>\n",
       "            </tr>\n",
       "    </tbody></table>"
      ],
      "text/plain": [
       "<pandas.io.formats.style.Styler at 0x1d979320bb0>"
      ]
     },
     "execution_count": 6,
     "metadata": {},
     "output_type": "execute_result"
    }
   ],
   "source": [
    "gameCorr = gameData.corr()\n",
    "gameCorr.style.background_gradient(cmap='coolwarm', axis=None).set_precision(2)"
   ]
  },
  {
   "cell_type": "markdown",
   "metadata": {},
   "source": [
    "### correlation between user_rating and rating_review"
   ]
  },
  {
   "cell_type": "code",
   "execution_count": 7,
   "metadata": {},
   "outputs": [
    {
     "data": {
      "text/plain": [
       "<AxesSubplot:xlabel='user_rating', ylabel='rating_review'>"
      ]
     },
     "execution_count": 7,
     "metadata": {},
     "output_type": "execute_result"
    },
    {
     "data": {
      "image/png": "[encoded data removed]",
      "text/plain": [
       "<Figure size 432x288 with 1 Axes>"
      ]
     },
     "metadata": {
      "needs_background": "light"
     },
     "output_type": "display_data"
    }
   ],
   "source": [
    "gameData.plot.scatter(x='user_rating', y='rating_review')"
   ]
  },
  {
   "cell_type": "markdown",
   "metadata": {},
   "source": [
    "thye correlation between user_rating and rating_reveiw is about what I expected, the rating of a review seems to have a strong correlation, but the the rating of the review can different from the user rating. a positive review rating doesn't mean that the user has the same opinion"
   ]
  },
  {
   "cell_type": "markdown",
   "metadata": {},
   "source": [
    "### correlation between user_rating and number_comments"
   ]
  },
  {
   "cell_type": "code",
   "execution_count": 8,
   "metadata": {},
   "outputs": [
    {
     "data": {
      "text/plain": [
       "<AxesSubplot:xlabel='user_rating', ylabel='number_comments'>"
      ]
     },
     "execution_count": 8,
     "metadata": {},
     "output_type": "execute_result"
    },
    {
     "data": {
      "image/png": "[encoded data removed]",
      "text/plain": [
       "<Figure size 432x288 with 1 Axes>"
      ]
     },
     "metadata": {
      "needs_background": "light"
     },
     "output_type": "display_data"
    }
   ],
   "source": [
    "gameData.plot.scatter(x='user_rating', y = 'number_comments')"
   ]
  },
  {
   "cell_type": "markdown",
   "metadata": {},
   "source": [
    "the correlation between the amount of commennts and the user rating is a weak positive, a game with few comments can still get a high rating. most games have a low amount of comments, regardless of the review. the few games that do have a hight amount of comments usually have s high rating.\n",
    "I was actually expecting there to be no correlation at all, instead of a small one."
   ]
  },
  {
   "cell_type": "markdown",
   "metadata": {},
   "source": [
    "## categorical x numerical region grouping"
   ]
  },
  {
   "cell_type": "code",
   "execution_count": 10,
   "metadata": {},
   "outputs": [
    {
     "data": {
      "text/html": [
       "<div>\n",
       "<style scoped>\n",
       "    .dataframe tbody tr th:only-of-type {\n",
       "        vertical-align: middle;\n",
       "    }\n",
       "\n",
       "    .dataframe tbody tr th {\n",
       "        vertical-align: top;\n",
       "    }\n",
       "\n",
       "    .dataframe thead th {\n",
       "        text-align: right;\n",
       "    }\n",
       "</style>\n",
       "<table border=\"1\" class=\"dataframe\">\n",
       "  <thead>\n",
       "    <tr style=\"text-align: right;\">\n",
       "      <th></th>\n",
       "      <th>id</th>\n",
       "      <th>price_ig</th>\n",
       "      <th>price_retail</th>\n",
       "      <th>DLC</th>\n",
       "      <th>user_rating</th>\n",
       "      <th>number_comments</th>\n",
       "      <th>rating_review</th>\n",
       "    </tr>\n",
       "    <tr>\n",
       "      <th>region</th>\n",
       "      <th></th>\n",
       "      <th></th>\n",
       "      <th></th>\n",
       "      <th></th>\n",
       "      <th></th>\n",
       "      <th></th>\n",
       "      <th></th>\n",
       "    </tr>\n",
       "  </thead>\n",
       "  <tbody>\n",
       "    <tr>\n",
       "      <th>ES</th>\n",
       "      <td>4486.168675</td>\n",
       "      <td>24.385522</td>\n",
       "      <td>30.320988</td>\n",
       "      <td>0.566265</td>\n",
       "      <td>50.222222</td>\n",
       "      <td>30.941176</td>\n",
       "      <td>40.000000</td>\n",
       "    </tr>\n",
       "    <tr>\n",
       "      <th>EUR</th>\n",
       "      <td>66.250000</td>\n",
       "      <td>23.917500</td>\n",
       "      <td>25.000000</td>\n",
       "      <td>0.000000</td>\n",
       "      <td>NaN</td>\n",
       "      <td>186.250000</td>\n",
       "      <td>NaN</td>\n",
       "    </tr>\n",
       "    <tr>\n",
       "      <th>Europe</th>\n",
       "      <td>2878.959788</td>\n",
       "      <td>19.302953</td>\n",
       "      <td>37.743820</td>\n",
       "      <td>0.194709</td>\n",
       "      <td>80.771341</td>\n",
       "      <td>71.251812</td>\n",
       "      <td>84.207317</td>\n",
       "    </tr>\n",
       "    <tr>\n",
       "      <th>Worldwide</th>\n",
       "      <td>3508.760377</td>\n",
       "      <td>9.965223</td>\n",
       "      <td>23.962011</td>\n",
       "      <td>0.186792</td>\n",
       "      <td>79.433254</td>\n",
       "      <td>37.079429</td>\n",
       "      <td>81.527731</td>\n",
       "    </tr>\n",
       "    <tr>\n",
       "      <th>europe</th>\n",
       "      <td>4564.000000</td>\n",
       "      <td>11.990000</td>\n",
       "      <td>20.000000</td>\n",
       "      <td>0.000000</td>\n",
       "      <td>NaN</td>\n",
       "      <td>NaN</td>\n",
       "      <td>NaN</td>\n",
       "    </tr>\n",
       "  </tbody>\n",
       "</table>\n",
       "</div>"
      ],
      "text/plain": [
       "                    id   price_ig  price_retail       DLC  user_rating  \\\n",
       "region                                                                   \n",
       "ES         4486.168675  24.385522     30.320988  0.566265    50.222222   \n",
       "EUR          66.250000  23.917500     25.000000  0.000000          NaN   \n",
       "Europe     2878.959788  19.302953     37.743820  0.194709    80.771341   \n",
       "Worldwide  3508.760377   9.965223     23.962011  0.186792    79.433254   \n",
       "europe     4564.000000  11.990000     20.000000  0.000000          NaN   \n",
       "\n",
       "           number_comments  rating_review  \n",
       "region                                     \n",
       "ES               30.941176      40.000000  \n",
       "EUR             186.250000            NaN  \n",
       "Europe           71.251812      84.207317  \n",
       "Worldwide        37.079429      81.527731  \n",
       "europe                 NaN            NaN  "
      ]
     },
     "execution_count": 10,
     "metadata": {},
     "output_type": "execute_result"
    }
   ],
   "source": [
    "gameData.groupby('region').mean()"
   ]
  },
  {
   "cell_type": "code",
   "execution_count": 11,
   "metadata": {},
   "outputs": [
    {
     "data": {
      "text/plain": [
       "<AxesSubplot:xlabel='region', ylabel='price_retail'>"
      ]
     },
     "execution_count": 11,
     "metadata": {},
     "output_type": "execute_result"
    },
    {
     "data": {
      "image/png": "[encoded data removed]",
      "text/plain": [
       "<Figure size 432x288 with 1 Axes>"
      ]
     },
     "metadata": {
      "needs_background": "light"
     },
     "output_type": "display_data"
    }
   ],
   "source": [
    "sns.barplot(y ='price_retail', x = 'region', data = gameData )"
   ]
  },
  {
   "cell_type": "markdown",
   "metadata": {},
   "source": [
    "the EUR region has the largest confidene interval bar, but the 'europe' region has no confidence bar. The 'Europe' region has the highest retail price. because most bars are different 'versions' (notations) of europe it's difficult to directly compare to the wordwide region. Also the used currency is not known."
   ]
  },
  {
   "cell_type": "code",
   "execution_count": 12,
   "metadata": {},
   "outputs": [
    {
     "data": {
      "text/plain": [
       "<AxesSubplot:xlabel='region', ylabel='user_rating'>"
      ]
     },
     "execution_count": 12,
     "metadata": {},
     "output_type": "execute_result"
    },
    {
     "data": {
      "image/png": "[encoded data removed]",
      "text/plain": [
       "<Figure size 432x288 with 1 Axes>"
      ]
     },
     "metadata": {
      "needs_background": "light"
     },
     "output_type": "display_data"
    }
   ],
   "source": [
    "sns.barplot(y= 'user_rating', x = 'region', data = gameData)"
   ]
  },
  {
   "cell_type": "code",
   "execution_count": 13,
   "metadata": {},
   "outputs": [
    {
     "data": {
      "text/plain": [
       "<AxesSubplot:xlabel='region', ylabel='rating_review'>"
      ]
     },
     "execution_count": 13,
     "metadata": {},
     "output_type": "execute_result"
    },
    {
     "data": {
      "image/png": "[encoded data removed]",
      "text/plain": [
       "<Figure size 432x288 with 1 Axes>"
      ]
     },
     "metadata": {
      "needs_background": "light"
     },
     "output_type": "display_data"
    }
   ],
   "source": [
    "sns.barplot(y= 'rating_review', x = 'region', data = gameData)"
   ]
  },
  {
   "cell_type": "code",
   "execution_count": null,
   "metadata": {},
   "outputs": [],
   "source": []
  }
 ],
 "metadata": {
  "kernelspec": {
   "display_name": "Python 3",
   "language": "python",
   "name": "python3"
  },
  "language_info": {
   "codemirror_mode": {
    "name": "ipython",
    "version": 3
   },
   "file_extension": ".py",
   "mimetype": "text/x-python",
   "name": "python",
   "nbconvert_exporter": "python",
   "pygments_lexer": "ipython3",
   "version": "3.8.5"
  }
 },
 "nbformat": 4,
 "nbformat_minor": 4
}
