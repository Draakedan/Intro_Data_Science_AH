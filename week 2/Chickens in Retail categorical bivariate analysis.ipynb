{
 "cells": [
  {
   "cell_type": "code",
   "execution_count": 1,
   "metadata": {},
   "outputs": [],
   "source": [
    "import pandas as pd"
   ]
  },
  {
   "cell_type": "code",
   "execution_count": 2,
   "metadata": {},
   "outputs": [],
   "source": [
    "import scipy.stats as st"
   ]
  },
  {
   "cell_type": "code",
   "execution_count": 10,
   "metadata": {},
   "outputs": [],
   "source": [
    "file = \"/Users/Lenovo/notebooks/RawDataChickenRetail.csv\""
   ]
  },
  {
   "cell_type": "markdown",
   "metadata": {},
   "source": [
    "## All Columns"
   ]
  },
  {
   "cell_type": "code",
   "execution_count": 11,
   "metadata": {},
   "outputs": [
    {
     "data": {
      "text/html": [
       "<div>\n",
       "<style scoped>\n",
       "    .dataframe tbody tr th:only-of-type {\n",
       "        vertical-align: middle;\n",
       "    }\n",
       "\n",
       "    .dataframe tbody tr th {\n",
       "        vertical-align: top;\n",
       "    }\n",
       "\n",
       "    .dataframe thead th {\n",
       "        text-align: right;\n",
       "    }\n",
       "</style>\n",
       "<table border=\"1\" class=\"dataframe\">\n",
       "  <thead>\n",
       "    <tr style=\"text-align: right;\">\n",
       "      <th></th>\n",
       "      <th>Lab</th>\n",
       "      <th>SampleNumber</th>\n",
       "      <th>DateExamined</th>\n",
       "      <th>BoxTempNoOnReceipt</th>\n",
       "      <th>Retailer</th>\n",
       "      <th>OtherPremisesDetails</th>\n",
       "      <th>PostCode</th>\n",
       "      <th>Country</th>\n",
       "      <th>UseByDate</th>\n",
       "      <th>RemainingShelflifeDays</th>\n",
       "      <th>...</th>\n",
       "      <th>TypeOfChickenExtraDetails</th>\n",
       "      <th>TypeOfChickenExtraDetails2</th>\n",
       "      <th>PackagingAtmosphere</th>\n",
       "      <th>RoastInBag</th>\n",
       "      <th>LiquidInPack</th>\n",
       "      <th>NeckSkinWeightGrams</th>\n",
       "      <th>Test</th>\n",
       "      <th>Result</th>\n",
       "      <th>Units</th>\n",
       "      <th>SpeciesDetected</th>\n",
       "    </tr>\n",
       "  </thead>\n",
       "  <tbody>\n",
       "    <tr>\n",
       "      <th>0</th>\n",
       "      <td>BI</td>\n",
       "      <td>BI1515854-01</td>\n",
       "      <td>2015-07-13</td>\n",
       "      <td>6.3</td>\n",
       "      <td>Tesco</td>\n",
       "      <td>NaN</td>\n",
       "      <td>B73 6RB</td>\n",
       "      <td>England</td>\n",
       "      <td>2015-07-19</td>\n",
       "      <td>6.0</td>\n",
       "      <td>...</td>\n",
       "      <td>None Stated</td>\n",
       "      <td>NaN</td>\n",
       "      <td>NOT Modified Atmosphere</td>\n",
       "      <td>Not Roast in bag</td>\n",
       "      <td>No</td>\n",
       "      <td>25.0</td>\n",
       "      <td>Campylobacter spp  - enumeration cfu/g</td>\n",
       "      <td>390</td>\n",
       "      <td>CFU/g</td>\n",
       "      <td>C. jejuni</td>\n",
       "    </tr>\n",
       "    <tr>\n",
       "      <th>1</th>\n",
       "      <td>BI</td>\n",
       "      <td>BI1515854-01</td>\n",
       "      <td>2015-07-13</td>\n",
       "      <td>6.3</td>\n",
       "      <td>Tesco</td>\n",
       "      <td>NaN</td>\n",
       "      <td>B73 6RB</td>\n",
       "      <td>England</td>\n",
       "      <td>2015-07-19</td>\n",
       "      <td>6.0</td>\n",
       "      <td>...</td>\n",
       "      <td>None Stated</td>\n",
       "      <td>NaN</td>\n",
       "      <td>NOT Modified Atmosphere</td>\n",
       "      <td>Not Roast in bag</td>\n",
       "      <td>No</td>\n",
       "      <td>25.0</td>\n",
       "      <td>Campylobacter spp -  enumeration per Swab</td>\n",
       "      <td>&lt;10</td>\n",
       "      <td>CFU Swab</td>\n",
       "      <td>NaN</td>\n",
       "    </tr>\n",
       "    <tr>\n",
       "      <th>2</th>\n",
       "      <td>BI</td>\n",
       "      <td>BI1515854-02</td>\n",
       "      <td>2015-07-13</td>\n",
       "      <td>6.3</td>\n",
       "      <td>Tesco</td>\n",
       "      <td>NaN</td>\n",
       "      <td>B73 6RB</td>\n",
       "      <td>England</td>\n",
       "      <td>2015-07-20</td>\n",
       "      <td>7.0</td>\n",
       "      <td>...</td>\n",
       "      <td>None Stated</td>\n",
       "      <td>NaN</td>\n",
       "      <td>NOT Modified Atmosphere</td>\n",
       "      <td>Not Roast in bag</td>\n",
       "      <td>No</td>\n",
       "      <td>25.0</td>\n",
       "      <td>Campylobacter spp  - enumeration cfu/g</td>\n",
       "      <td>3350</td>\n",
       "      <td>CFU/g</td>\n",
       "      <td>C. jejuni</td>\n",
       "    </tr>\n",
       "    <tr>\n",
       "      <th>3</th>\n",
       "      <td>BI</td>\n",
       "      <td>BI1515854-02</td>\n",
       "      <td>2015-07-13</td>\n",
       "      <td>6.3</td>\n",
       "      <td>Tesco</td>\n",
       "      <td>NaN</td>\n",
       "      <td>B73 6RB</td>\n",
       "      <td>England</td>\n",
       "      <td>2015-07-20</td>\n",
       "      <td>7.0</td>\n",
       "      <td>...</td>\n",
       "      <td>None Stated</td>\n",
       "      <td>NaN</td>\n",
       "      <td>NOT Modified Atmosphere</td>\n",
       "      <td>Not Roast in bag</td>\n",
       "      <td>No</td>\n",
       "      <td>25.0</td>\n",
       "      <td>Campylobacter spp -  enumeration per Swab</td>\n",
       "      <td>&lt;10</td>\n",
       "      <td>CFU Swab</td>\n",
       "      <td>NaN</td>\n",
       "    </tr>\n",
       "    <tr>\n",
       "      <th>4</th>\n",
       "      <td>BI</td>\n",
       "      <td>BI1515854-03</td>\n",
       "      <td>2015-07-13</td>\n",
       "      <td>6.3</td>\n",
       "      <td>M&amp;S</td>\n",
       "      <td>NaN</td>\n",
       "      <td>B73 6RB</td>\n",
       "      <td>England</td>\n",
       "      <td>2015-07-18</td>\n",
       "      <td>5.0</td>\n",
       "      <td>...</td>\n",
       "      <td>None Stated</td>\n",
       "      <td>NaN</td>\n",
       "      <td>NOT Modified Atmosphere</td>\n",
       "      <td>Not Roast in bag</td>\n",
       "      <td>Yes</td>\n",
       "      <td>18.0</td>\n",
       "      <td>Campylobacter spp  - enumeration cfu/g</td>\n",
       "      <td>7500</td>\n",
       "      <td>CFU/g</td>\n",
       "      <td>C. jejuni</td>\n",
       "    </tr>\n",
       "  </tbody>\n",
       "</table>\n",
       "<p>5 rows × 27 columns</p>\n",
       "</div>"
      ],
      "text/plain": [
       "  Lab  SampleNumber DateExamined BoxTempNoOnReceipt Retailer  \\\n",
       "0  BI  BI1515854-01   2015-07-13                6.3    Tesco   \n",
       "1  BI  BI1515854-01   2015-07-13                6.3    Tesco   \n",
       "2  BI  BI1515854-02   2015-07-13                6.3    Tesco   \n",
       "3  BI  BI1515854-02   2015-07-13                6.3    Tesco   \n",
       "4  BI  BI1515854-03   2015-07-13                6.3      M&S   \n",
       "\n",
       "  OtherPremisesDetails PostCode  Country   UseByDate  RemainingShelflifeDays  \\\n",
       "0                  NaN  B73 6RB  England  2015-07-19                     6.0   \n",
       "1                  NaN  B73 6RB  England  2015-07-19                     6.0   \n",
       "2                  NaN  B73 6RB  England  2015-07-20                     7.0   \n",
       "3                  NaN  B73 6RB  England  2015-07-20                     7.0   \n",
       "4                  NaN  B73 6RB  England  2015-07-18                     5.0   \n",
       "\n",
       "   ...  TypeOfChickenExtraDetails TypeOfChickenExtraDetails2  \\\n",
       "0  ...                None Stated                        NaN   \n",
       "1  ...                None Stated                        NaN   \n",
       "2  ...                None Stated                        NaN   \n",
       "3  ...                None Stated                        NaN   \n",
       "4  ...                None Stated                        NaN   \n",
       "\n",
       "       PackagingAtmosphere        RoastInBag LiquidInPack  \\\n",
       "0  NOT Modified Atmosphere  Not Roast in bag           No   \n",
       "1  NOT Modified Atmosphere  Not Roast in bag           No   \n",
       "2  NOT Modified Atmosphere  Not Roast in bag           No   \n",
       "3  NOT Modified Atmosphere  Not Roast in bag           No   \n",
       "4  NOT Modified Atmosphere  Not Roast in bag          Yes   \n",
       "\n",
       "   NeckSkinWeightGrams                                       Test Result  \\\n",
       "0                 25.0     Campylobacter spp  - enumeration cfu/g    390   \n",
       "1                 25.0  Campylobacter spp -  enumeration per Swab    <10   \n",
       "2                 25.0     Campylobacter spp  - enumeration cfu/g   3350   \n",
       "3                 25.0  Campylobacter spp -  enumeration per Swab    <10   \n",
       "4                 18.0     Campylobacter spp  - enumeration cfu/g   7500   \n",
       "\n",
       "      Units SpeciesDetected  \n",
       "0     CFU/g       C. jejuni  \n",
       "1  CFU Swab             NaN  \n",
       "2     CFU/g       C. jejuni  \n",
       "3  CFU Swab             NaN  \n",
       "4     CFU/g       C. jejuni  \n",
       "\n",
       "[5 rows x 27 columns]"
      ]
     },
     "execution_count": 11,
     "metadata": {},
     "output_type": "execute_result"
    }
   ],
   "source": [
    "chicken = pd.read_csv(file)\n",
    "chicken.head()"
   ]
  },
  {
   "cell_type": "markdown",
   "metadata": {},
   "source": [
    "## categorical X categorical"
   ]
  },
  {
   "cell_type": "code",
   "execution_count": 12,
   "metadata": {},
   "outputs": [],
   "source": [
    "from scipy.stats import chi2_contingency as chi2_c"
   ]
  },
  {
   "cell_type": "markdown",
   "metadata": {},
   "source": [
    "### Retailer vs LiquidInPack"
   ]
  },
  {
   "cell_type": "markdown",
   "metadata": {},
   "source": [
    "I expect there to be no correlation between the liquid in the pack and the retailer"
   ]
  },
  {
   "cell_type": "code",
   "execution_count": 17,
   "metadata": {},
   "outputs": [
    {
     "data": {
      "text/html": [
       "<div>\n",
       "<style scoped>\n",
       "    .dataframe tbody tr th:only-of-type {\n",
       "        vertical-align: middle;\n",
       "    }\n",
       "\n",
       "    .dataframe tbody tr th {\n",
       "        vertical-align: top;\n",
       "    }\n",
       "\n",
       "    .dataframe thead th {\n",
       "        text-align: right;\n",
       "    }\n",
       "</style>\n",
       "<table border=\"1\" class=\"dataframe\">\n",
       "  <thead>\n",
       "    <tr style=\"text-align: right;\">\n",
       "      <th>Retailer</th>\n",
       "      <th>ALDI</th>\n",
       "      <th>ASDA</th>\n",
       "      <th>Aldi</th>\n",
       "      <th>Aldi</th>\n",
       "      <th>Asda</th>\n",
       "      <th>BUTCHERS</th>\n",
       "      <th>Butchers</th>\n",
       "      <th>CO-OP</th>\n",
       "      <th>Co-Op</th>\n",
       "      <th>Co-op</th>\n",
       "      <th>...</th>\n",
       "      <th>M&amp;S</th>\n",
       "      <th>MORRISONS</th>\n",
       "      <th>Morrisons</th>\n",
       "      <th>OTHER</th>\n",
       "      <th>Other</th>\n",
       "      <th>Sainsbury's</th>\n",
       "      <th>TESCO</th>\n",
       "      <th>Tesco</th>\n",
       "      <th>WAITROSE</th>\n",
       "      <th>Waitrose</th>\n",
       "    </tr>\n",
       "    <tr>\n",
       "      <th>LiquidInPack</th>\n",
       "      <th></th>\n",
       "      <th></th>\n",
       "      <th></th>\n",
       "      <th></th>\n",
       "      <th></th>\n",
       "      <th></th>\n",
       "      <th></th>\n",
       "      <th></th>\n",
       "      <th></th>\n",
       "      <th></th>\n",
       "      <th></th>\n",
       "      <th></th>\n",
       "      <th></th>\n",
       "      <th></th>\n",
       "      <th></th>\n",
       "      <th></th>\n",
       "      <th></th>\n",
       "      <th></th>\n",
       "      <th></th>\n",
       "      <th></th>\n",
       "      <th></th>\n",
       "    </tr>\n",
       "  </thead>\n",
       "  <tbody>\n",
       "    <tr>\n",
       "      <th>No</th>\n",
       "      <td>52</td>\n",
       "      <td>64</td>\n",
       "      <td>110</td>\n",
       "      <td>0</td>\n",
       "      <td>74</td>\n",
       "      <td>4</td>\n",
       "      <td>186</td>\n",
       "      <td>56</td>\n",
       "      <td>52</td>\n",
       "      <td>176</td>\n",
       "      <td>...</td>\n",
       "      <td>344</td>\n",
       "      <td>2</td>\n",
       "      <td>160</td>\n",
       "      <td>33</td>\n",
       "      <td>113</td>\n",
       "      <td>170</td>\n",
       "      <td>32</td>\n",
       "      <td>188</td>\n",
       "      <td>8</td>\n",
       "      <td>60</td>\n",
       "    </tr>\n",
       "    <tr>\n",
       "      <th>Yes</th>\n",
       "      <td>152</td>\n",
       "      <td>204</td>\n",
       "      <td>296</td>\n",
       "      <td>4</td>\n",
       "      <td>268</td>\n",
       "      <td>0</td>\n",
       "      <td>32</td>\n",
       "      <td>48</td>\n",
       "      <td>40</td>\n",
       "      <td>188</td>\n",
       "      <td>...</td>\n",
       "      <td>268</td>\n",
       "      <td>6</td>\n",
       "      <td>432</td>\n",
       "      <td>26</td>\n",
       "      <td>118</td>\n",
       "      <td>448</td>\n",
       "      <td>81</td>\n",
       "      <td>321</td>\n",
       "      <td>124</td>\n",
       "      <td>391</td>\n",
       "    </tr>\n",
       "    <tr>\n",
       "      <th>no</th>\n",
       "      <td>0</td>\n",
       "      <td>0</td>\n",
       "      <td>0</td>\n",
       "      <td>0</td>\n",
       "      <td>0</td>\n",
       "      <td>0</td>\n",
       "      <td>0</td>\n",
       "      <td>0</td>\n",
       "      <td>0</td>\n",
       "      <td>0</td>\n",
       "      <td>...</td>\n",
       "      <td>0</td>\n",
       "      <td>0</td>\n",
       "      <td>0</td>\n",
       "      <td>0</td>\n",
       "      <td>0</td>\n",
       "      <td>2</td>\n",
       "      <td>0</td>\n",
       "      <td>0</td>\n",
       "      <td>0</td>\n",
       "      <td>0</td>\n",
       "    </tr>\n",
       "    <tr>\n",
       "      <th>yes</th>\n",
       "      <td>0</td>\n",
       "      <td>0</td>\n",
       "      <td>0</td>\n",
       "      <td>0</td>\n",
       "      <td>0</td>\n",
       "      <td>0</td>\n",
       "      <td>0</td>\n",
       "      <td>0</td>\n",
       "      <td>0</td>\n",
       "      <td>0</td>\n",
       "      <td>...</td>\n",
       "      <td>0</td>\n",
       "      <td>0</td>\n",
       "      <td>0</td>\n",
       "      <td>0</td>\n",
       "      <td>0</td>\n",
       "      <td>0</td>\n",
       "      <td>0</td>\n",
       "      <td>0</td>\n",
       "      <td>0</td>\n",
       "      <td>1</td>\n",
       "    </tr>\n",
       "  </tbody>\n",
       "</table>\n",
       "<p>4 rows × 22 columns</p>\n",
       "</div>"
      ],
      "text/plain": [
       "Retailer      ALDI  ASDA  Aldi  Aldi   Asda  BUTCHERS  Butchers  CO-OP  Co-Op  \\\n",
       "LiquidInPack                                                                    \n",
       "No              52    64   110      0    74         4       186     56     52   \n",
       "Yes            152   204   296      4   268         0        32     48     40   \n",
       "no               0     0     0      0     0         0         0      0      0   \n",
       "yes              0     0     0      0     0         0         0      0      0   \n",
       "\n",
       "Retailer      Co-op  ...  M&S  MORRISONS  Morrisons  OTHER  Other  \\\n",
       "LiquidInPack         ...                                            \n",
       "No              176  ...  344          2        160     33    113   \n",
       "Yes             188  ...  268          6        432     26    118   \n",
       "no                0  ...    0          0          0      0      0   \n",
       "yes               0  ...    0          0          0      0      0   \n",
       "\n",
       "Retailer      Sainsbury's  TESCO  Tesco  WAITROSE  Waitrose  \n",
       "LiquidInPack                                                 \n",
       "No                    170     32    188         8        60  \n",
       "Yes                   448     81    321       124       391  \n",
       "no                      2      0      0         0         0  \n",
       "yes                     0      0      0         0         1  \n",
       "\n",
       "[4 rows x 22 columns]"
      ]
     },
     "execution_count": 17,
     "metadata": {},
     "output_type": "execute_result"
    }
   ],
   "source": [
    "continRetailLiquid = chicken.groupby(['Retailer', 'LiquidInPack']).size().unstack('Retailer', fill_value=0)\n",
    "continRetailLiquid"
   ]
  },
  {
   "cell_type": "code",
   "execution_count": 18,
   "metadata": {},
   "outputs": [
    {
     "data": {
      "text/plain": [
       "<AxesSubplot:xlabel='LiquidInPack'>"
      ]
     },
     "execution_count": 18,
     "metadata": {},
     "output_type": "execute_result"
    },
    {
     "data": {
      "image/png": "[encoded data removed]",
      "text/plain": [
       "<Figure size 432x288 with 1 Axes>"
      ]
     },
     "metadata": {
      "needs_background": "light"
     },
     "output_type": "display_data"
    }
   ],
   "source": [
    "continRetailLiquid.plot.bar()"
   ]
  },
  {
   "cell_type": "code",
   "execution_count": 19,
   "metadata": {},
   "outputs": [
    {
     "data": {
      "text/plain": [
       "(783.3702263630936,\n",
       " 7.005089590945418e-125,\n",
       " 63,\n",
       " array([[6.94967829e+01, 9.12996952e+01, 1.38312225e+02, 1.36268202e+00,\n",
       "         1.16509313e+02, 1.36268202e+00, 7.42661700e+01, 3.54297325e+01,\n",
       "         3.13416864e+01, 1.24004064e+02, 6.67714189e+01, 1.28092110e+02,\n",
       "         2.08490349e+02, 2.72536404e+00, 2.01676939e+02, 2.00995598e+01,\n",
       "         7.86948866e+01, 2.11215713e+02, 3.84957670e+01, 1.73401287e+02,\n",
       "         4.49685066e+01, 1.53983068e+02],\n",
       "        [1.34399594e+02, 1.76564172e+02, 2.67481544e+02, 2.63528615e+00,\n",
       "         2.25316966e+02, 2.63528615e+00, 1.43623095e+02, 6.85174399e+01,\n",
       "         6.06115814e+01, 2.39811040e+02, 1.29129021e+02, 2.47716898e+02,\n",
       "         4.03198781e+02, 5.27057230e+00, 3.90022350e+02, 3.88704707e+01,\n",
       "         1.52187775e+02, 4.08469353e+02, 7.44468337e+01, 3.35340163e+02,\n",
       "         8.69644429e+01, 2.97787335e+02],\n",
       "        [6.90822892e-02, 9.07551642e-02, 1.37487301e-01, 1.35455469e-03,\n",
       "         1.15814426e-01, 1.35455469e-03, 7.38232306e-02, 3.52184219e-02,\n",
       "         3.11547579e-02, 1.23264477e-01, 6.63731798e-02, 1.27328141e-01,\n",
       "         2.07246868e-01, 2.70910938e-03, 2.00474094e-01, 1.99796817e-02,\n",
       "         7.82255334e-02, 2.09955977e-01, 3.82661700e-02, 1.72367084e-01,\n",
       "         4.47003048e-02, 1.53064680e-01],\n",
       "        [3.45411446e-02, 4.53775821e-02, 6.87436505e-02, 6.77277345e-04,\n",
       "         5.79072130e-02, 6.77277345e-04, 3.69116153e-02, 1.76092110e-02,\n",
       "         1.55773789e-02, 6.16322384e-02, 3.31865899e-02, 6.36640704e-02,\n",
       "         1.03623434e-01, 1.35455469e-03, 1.00237047e-01, 9.98984084e-03,\n",
       "         3.91127667e-02, 1.04977988e-01, 1.91330850e-02, 8.61835422e-02,\n",
       "         2.23501524e-02, 7.65323400e-02]]))"
      ]
     },
     "execution_count": 19,
     "metadata": {},
     "output_type": "execute_result"
    }
   ],
   "source": [
    "chi2_c(continRetailLiquid)"
   ]
  },
  {
   "cell_type": "markdown",
   "metadata": {},
   "source": [
    "### country vs RoastInBag"
   ]
  },
  {
   "cell_type": "code",
   "execution_count": 22,
   "metadata": {},
   "outputs": [
    {
     "data": {
      "text/html": [
       "<div>\n",
       "<style scoped>\n",
       "    .dataframe tbody tr th:only-of-type {\n",
       "        vertical-align: middle;\n",
       "    }\n",
       "\n",
       "    .dataframe tbody tr th {\n",
       "        vertical-align: top;\n",
       "    }\n",
       "\n",
       "    .dataframe thead th {\n",
       "        text-align: right;\n",
       "    }\n",
       "</style>\n",
       "<table border=\"1\" class=\"dataframe\">\n",
       "  <thead>\n",
       "    <tr style=\"text-align: right;\">\n",
       "      <th>Country</th>\n",
       "      <th>England</th>\n",
       "      <th>Northern Ireland</th>\n",
       "      <th>Scotland</th>\n",
       "      <th>Wales</th>\n",
       "    </tr>\n",
       "    <tr>\n",
       "      <th>RoastInBag</th>\n",
       "      <th></th>\n",
       "      <th></th>\n",
       "      <th></th>\n",
       "      <th></th>\n",
       "    </tr>\n",
       "  </thead>\n",
       "  <tbody>\n",
       "    <tr>\n",
       "      <th>No tray, wrapped</th>\n",
       "      <td>2</td>\n",
       "      <td>0</td>\n",
       "      <td>0</td>\n",
       "      <td>0</td>\n",
       "    </tr>\n",
       "    <tr>\n",
       "      <th>Not Roast in bag</th>\n",
       "      <td>444</td>\n",
       "      <td>0</td>\n",
       "      <td>0</td>\n",
       "      <td>56</td>\n",
       "    </tr>\n",
       "    <tr>\n",
       "      <th>Other</th>\n",
       "      <td>3552</td>\n",
       "      <td>40</td>\n",
       "      <td>202</td>\n",
       "      <td>452</td>\n",
       "    </tr>\n",
       "    <tr>\n",
       "      <th>Other</th>\n",
       "      <td>0</td>\n",
       "      <td>28</td>\n",
       "      <td>20</td>\n",
       "      <td>0</td>\n",
       "    </tr>\n",
       "    <tr>\n",
       "      <th>Roast in bag</th>\n",
       "      <td>750</td>\n",
       "      <td>0</td>\n",
       "      <td>110</td>\n",
       "      <td>66</td>\n",
       "    </tr>\n",
       "    <tr>\n",
       "      <th>Tray Wrapped</th>\n",
       "      <td>4</td>\n",
       "      <td>0</td>\n",
       "      <td>0</td>\n",
       "      <td>0</td>\n",
       "    </tr>\n",
       "  </tbody>\n",
       "</table>\n",
       "</div>"
      ],
      "text/plain": [
       "Country           England  Northern Ireland  Scotland  Wales  \n",
       "RoastInBag                                                    \n",
       "No tray, wrapped        2                 0         0        0\n",
       "Not Roast in bag      444                 0         0       56\n",
       "Other                3552                40       202      452\n",
       "Other                   0                28        20        0\n",
       "Roast in bag          750                 0       110       66\n",
       "Tray Wrapped            4                 0         0        0"
      ]
     },
     "execution_count": 22,
     "metadata": {},
     "output_type": "execute_result"
    }
   ],
   "source": [
    "continCountryRoast = chicken.groupby(['Country', 'RoastInBag']).size().unstack('Country', fill_value=0)\n",
    "continCountryRoast"
   ]
  },
  {
   "cell_type": "code",
   "execution_count": 23,
   "metadata": {},
   "outputs": [
    {
     "data": {
      "text/plain": [
       "<AxesSubplot:xlabel='RoastInBag'>"
      ]
     },
     "execution_count": 23,
     "metadata": {},
     "output_type": "execute_result"
    },
    {
     "data": {
      "image/png": "[encoded data removed]",
      "text/plain": [
       "<Figure size 432x288 with 1 Axes>"
      ]
     },
     "metadata": {
      "needs_background": "light"
     },
     "output_type": "display_data"
    }
   ],
   "source": [
    "continCountryRoast.plot.bar()"
   ]
  },
  {
   "cell_type": "code",
   "execution_count": 24,
   "metadata": {},
   "outputs": [
    {
     "data": {
      "text/plain": [
       "(1600.1647125598308,\n",
       " 0.0,\n",
       " 15,\n",
       " array([[1.65979742e+00, 2.37513098e-02, 1.15962277e-01, 2.00488998e-01],\n",
       "        [4.14949354e+02, 5.93782745e+00, 2.89905693e+01, 5.01222494e+01],\n",
       "        [3.52374991e+03, 5.04240307e+01, 2.46187915e+02, 4.25638142e+02],\n",
       "        [3.98351380e+01, 5.70031436e-01, 2.78309466e+00, 4.81173594e+00],\n",
       "        [7.68486203e+02, 1.09968564e+01, 5.36905344e+01, 9.28264059e+01],\n",
       "        [3.31959483e+00, 4.75026196e-02, 2.31924555e-01, 4.00977995e-01]]))"
      ]
     },
     "execution_count": 24,
     "metadata": {},
     "output_type": "execute_result"
    }
   ],
   "source": [
    "chi2_c(continCountryRoast)"
   ]
  },
  {
   "cell_type": "code",
   "execution_count": null,
   "metadata": {},
   "outputs": [],
   "source": []
  }
 ],
 "metadata": {
  "kernelspec": {
   "display_name": "Python 3",
   "language": "python",
   "name": "python3"
  },
  "language_info": {
   "codemirror_mode": {
    "name": "ipython",
    "version": 3
   },
   "file_extension": ".py",
   "mimetype": "text/x-python",
   "name": "python",
   "nbconvert_exporter": "python",
   "pygments_lexer": "ipython3",
   "version": "3.8.5"
  }
 },
 "nbformat": 4,
 "nbformat_minor": 4
}
