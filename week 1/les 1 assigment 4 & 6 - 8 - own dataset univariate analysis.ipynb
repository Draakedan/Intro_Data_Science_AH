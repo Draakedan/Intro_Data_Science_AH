{
 "cells": [
  {
   "cell_type": "code",
   "execution_count": 2,
   "metadata": {},
   "outputs": [],
   "source": [
    "import pandas as pd"
   ]
  },
  {
   "cell_type": "code",
   "execution_count": 45,
   "metadata": {},
   "outputs": [],
   "source": [
    "import scipy.stats as st"
   ]
  },
  {
   "cell_type": "code",
   "execution_count": 3,
   "metadata": {},
   "outputs": [],
   "source": [
    "file = \"/Users/Lenovo/notebooks/games.csv\""
   ]
  },
  {
   "cell_type": "markdown",
   "metadata": {},
   "source": [
    "## all coloums"
   ]
  },
  {
   "cell_type": "code",
   "execution_count": 4,
   "metadata": {},
   "outputs": [
    {
     "data": {
      "text/html": [
       "<div>\n",
       "<style scoped>\n",
       "    .dataframe tbody tr th:only-of-type {\n",
       "        vertical-align: middle;\n",
       "    }\n",
       "\n",
       "    .dataframe tbody tr th {\n",
       "        vertical-align: top;\n",
       "    }\n",
       "\n",
       "    .dataframe thead th {\n",
       "        text-align: right;\n",
       "    }\n",
       "</style>\n",
       "<table border=\"1\" class=\"dataframe\">\n",
       "  <thead>\n",
       "    <tr style=\"text-align: right;\">\n",
       "      <th></th>\n",
       "      <th>id</th>\n",
       "      <th>title</th>\n",
       "      <th>price_ig</th>\n",
       "      <th>discount</th>\n",
       "      <th>price_retail</th>\n",
       "      <th>price_steam</th>\n",
       "      <th>region</th>\n",
       "      <th>DLC</th>\n",
       "      <th>platform</th>\n",
       "      <th>link</th>\n",
       "      <th>availability</th>\n",
       "      <th>genre</th>\n",
       "      <th>languages</th>\n",
       "      <th>release_date</th>\n",
       "      <th>user_rating</th>\n",
       "      <th>number_comments</th>\n",
       "      <th>review</th>\n",
       "      <th>rating_review</th>\n",
       "    </tr>\n",
       "  </thead>\n",
       "  <tbody>\n",
       "    <tr>\n",
       "      <th>0</th>\n",
       "      <td>1</td>\n",
       "      <td>FIFA 21</td>\n",
       "      <td>39.69</td>\n",
       "      <td>-34%</td>\n",
       "      <td>60.0</td>\n",
       "      <td>59.99</td>\n",
       "      <td>Worldwide</td>\n",
       "      <td>0</td>\n",
       "      <td>Origin</td>\n",
       "      <td>https://www.instant-gaming.com/en/6890-buy-gam...</td>\n",
       "      <td>In stock</td>\n",
       "      <td>Multiplayer Simulation Sports Soccer Runner Pv...</td>\n",
       "      <td>cn de en es fr it jp kr pl pt ru</td>\n",
       "      <td>9 October 2020</td>\n",
       "      <td>48.0</td>\n",
       "      <td>50.0</td>\n",
       "      <td>This game is boring  i have bought it from EA ...</td>\n",
       "      <td>30.0</td>\n",
       "    </tr>\n",
       "    <tr>\n",
       "      <th>1</th>\n",
       "      <td>2</td>\n",
       "      <td>Watch Dogs Legion</td>\n",
       "      <td>47.49</td>\n",
       "      <td>-21%</td>\n",
       "      <td>60.0</td>\n",
       "      <td>NaN</td>\n",
       "      <td>Worldwide</td>\n",
       "      <td>0</td>\n",
       "      <td>Uplay</td>\n",
       "      <td>https://www.instant-gaming.com/en/2540-buy-gam...</td>\n",
       "      <td>In stock</td>\n",
       "      <td>GeForce Now Action Adventure Cooperation Multi...</td>\n",
       "      <td>cn de en es fr it jp kr pl ru</td>\n",
       "      <td>29 October 2020</td>\n",
       "      <td>61.0</td>\n",
       "      <td>20.0</td>\n",
       "      <td>Après un second volet moins mature que son aîn...</td>\n",
       "      <td>70.0</td>\n",
       "    </tr>\n",
       "    <tr>\n",
       "      <th>2</th>\n",
       "      <td>3</td>\n",
       "      <td>FIFA 21: 2200 FUT Points</td>\n",
       "      <td>15.89</td>\n",
       "      <td>-21%</td>\n",
       "      <td>20.0</td>\n",
       "      <td>NaN</td>\n",
       "      <td>Worldwide</td>\n",
       "      <td>1</td>\n",
       "      <td>Origin</td>\n",
       "      <td>https://www.instant-gaming.com/en/7275-buy-gam...</td>\n",
       "      <td>In stock</td>\n",
       "      <td>Multiplayer Simulation Sports Soccer Football ...</td>\n",
       "      <td>Multi</td>\n",
       "      <td>9 October 2020</td>\n",
       "      <td>65.0</td>\n",
       "      <td>1.0</td>\n",
       "      <td>Mal wieder viel zu teuer für jedes jahr das gl...</td>\n",
       "      <td>30.0</td>\n",
       "    </tr>\n",
       "    <tr>\n",
       "      <th>3</th>\n",
       "      <td>4</td>\n",
       "      <td>Dead by Daylight</td>\n",
       "      <td>5.48</td>\n",
       "      <td>-73%</td>\n",
       "      <td>20.0</td>\n",
       "      <td>19.99</td>\n",
       "      <td>Worldwide</td>\n",
       "      <td>0</td>\n",
       "      <td>Steam</td>\n",
       "      <td>https://www.instant-gaming.com/en/1904-buy-gam...</td>\n",
       "      <td>In stock</td>\n",
       "      <td>GeForce Now Action Cooperation Multiplayer Str...</td>\n",
       "      <td>cn de en es fr it jp kr pl pt ru</td>\n",
       "      <td>14 June 2016</td>\n",
       "      <td>83.0</td>\n",
       "      <td>382.0</td>\n",
       "      <td>All around great game. With friends  it is gre...</td>\n",
       "      <td>90.0</td>\n",
       "    </tr>\n",
       "    <tr>\n",
       "      <th>4</th>\n",
       "      <td>5</td>\n",
       "      <td>Minecraft</td>\n",
       "      <td>19.49</td>\n",
       "      <td>-19%</td>\n",
       "      <td>24.0</td>\n",
       "      <td>NaN</td>\n",
       "      <td>Worldwide</td>\n",
       "      <td>0</td>\n",
       "      <td>Other platform</td>\n",
       "      <td>https://www.instant-gaming.com/en/442-buy-game...</td>\n",
       "      <td>In stock</td>\n",
       "      <td>Management Mac Multiplayer RPG VR</td>\n",
       "      <td>Multi</td>\n",
       "      <td>19 November 2011</td>\n",
       "      <td>90.0</td>\n",
       "      <td>541.0</td>\n",
       "      <td>Best game ever god sandboxgame adn a lot of ga...</td>\n",
       "      <td>100.0</td>\n",
       "    </tr>\n",
       "  </tbody>\n",
       "</table>\n",
       "</div>"
      ],
      "text/plain": [
       "   id                     title  price_ig discount  price_retail price_steam  \\\n",
       "0   1                   FIFA 21     39.69     -34%          60.0       59.99   \n",
       "1   2         Watch Dogs Legion     47.49     -21%          60.0         NaN   \n",
       "2   3  FIFA 21: 2200 FUT Points     15.89     -21%          20.0         NaN   \n",
       "3   4          Dead by Daylight      5.48     -73%          20.0       19.99   \n",
       "4   5                 Minecraft     19.49     -19%          24.0         NaN   \n",
       "\n",
       "      region  DLC        platform  \\\n",
       "0  Worldwide    0          Origin   \n",
       "1  Worldwide    0           Uplay   \n",
       "2  Worldwide    1          Origin   \n",
       "3  Worldwide    0           Steam   \n",
       "4  Worldwide    0  Other platform   \n",
       "\n",
       "                                                link availability  \\\n",
       "0  https://www.instant-gaming.com/en/6890-buy-gam...     In stock   \n",
       "1  https://www.instant-gaming.com/en/2540-buy-gam...     In stock   \n",
       "2  https://www.instant-gaming.com/en/7275-buy-gam...     In stock   \n",
       "3  https://www.instant-gaming.com/en/1904-buy-gam...     In stock   \n",
       "4  https://www.instant-gaming.com/en/442-buy-game...     In stock   \n",
       "\n",
       "                                               genre  \\\n",
       "0  Multiplayer Simulation Sports Soccer Runner Pv...   \n",
       "1  GeForce Now Action Adventure Cooperation Multi...   \n",
       "2  Multiplayer Simulation Sports Soccer Football ...   \n",
       "3  GeForce Now Action Cooperation Multiplayer Str...   \n",
       "4                  Management Mac Multiplayer RPG VR   \n",
       "\n",
       "                          languages      release_date  user_rating  \\\n",
       "0  cn de en es fr it jp kr pl pt ru    9 October 2020         48.0   \n",
       "1     cn de en es fr it jp kr pl ru   29 October 2020         61.0   \n",
       "2                             Multi    9 October 2020         65.0   \n",
       "3  cn de en es fr it jp kr pl pt ru      14 June 2016         83.0   \n",
       "4                             Multi  19 November 2011         90.0   \n",
       "\n",
       "   number_comments                                             review  \\\n",
       "0             50.0  This game is boring  i have bought it from EA ...   \n",
       "1             20.0  Après un second volet moins mature que son aîn...   \n",
       "2              1.0  Mal wieder viel zu teuer für jedes jahr das gl...   \n",
       "3            382.0  All around great game. With friends  it is gre...   \n",
       "4            541.0  Best game ever god sandboxgame adn a lot of ga...   \n",
       "\n",
       "   rating_review  \n",
       "0           30.0  \n",
       "1           70.0  \n",
       "2           30.0  \n",
       "3           90.0  \n",
       "4          100.0  "
      ]
     },
     "execution_count": 4,
     "metadata": {},
     "output_type": "execute_result"
    }
   ],
   "source": [
    "gameData = pd.read_csv(file)\n",
    "gameData.head()"
   ]
  },
  {
   "cell_type": "markdown",
   "metadata": {},
   "source": [
    "## region coloum"
   ]
  },
  {
   "cell_type": "code",
   "execution_count": 5,
   "metadata": {},
   "outputs": [
    {
     "data": {
      "text/plain": [
       "array(['Worldwide', 'Europe', 'EUR', 'ES', 'europe'], dtype=object)"
      ]
     },
     "execution_count": 5,
     "metadata": {},
     "output_type": "execute_result"
    }
   ],
   "source": [
    "gameData['region'].unique()"
   ]
  },
  {
   "cell_type": "code",
   "execution_count": 6,
   "metadata": {},
   "outputs": [
    {
     "data": {
      "text/plain": [
       "Worldwide    5830\n",
       "Europe        945\n",
       "ES             83\n",
       "EUR             4\n",
       "europe          1\n",
       "Name: region, dtype: int64"
      ]
     },
     "execution_count": 6,
     "metadata": {},
     "output_type": "execute_result"
    }
   ],
   "source": [
    "gameData['region'].value_counts()"
   ]
  },
  {
   "cell_type": "code",
   "execution_count": 7,
   "metadata": {},
   "outputs": [
    {
     "data": {
      "text/plain": [
       "<AxesSubplot:>"
      ]
     },
     "execution_count": 7,
     "metadata": {},
     "output_type": "execute_result"
    },
    {
     "data": {
      "image/png": "[encoded data removed]",
      "text/plain": [
       "<Figure size 432x288 with 1 Axes>"
      ]
     },
     "metadata": {
      "needs_background": "light"
     },
     "output_type": "display_data"
    }
   ],
   "source": [
    "gameData['region'].value_counts().plot.bar()"
   ]
  },
  {
   "cell_type": "markdown",
   "metadata": {},
   "source": [
    "## platform coloum"
   ]
  },
  {
   "cell_type": "code",
   "execution_count": 8,
   "metadata": {},
   "outputs": [
    {
     "data": {
      "text/plain": [
       "array(['Origin', 'Uplay', 'Steam', 'Other platform', nan, 'Rockstar',\n",
       "       'Xbox', 'Battle.net', 'Xbox Play Anywhere', 'Software', 'Nintendo',\n",
       "       'Bethesda', 'GOG.com', 'Playstation', 'Epic Games',\n",
       "       'Microsoft Store', 'Ncsoft', 'STEAM'], dtype=object)"
      ]
     },
     "execution_count": 8,
     "metadata": {},
     "output_type": "execute_result"
    }
   ],
   "source": [
    "gameData['platform'].unique()"
   ]
  },
  {
   "cell_type": "code",
   "execution_count": 9,
   "metadata": {},
   "outputs": [
    {
     "data": {
      "text/plain": [
       "Steam                 5005\n",
       "Xbox                   611\n",
       "Nintendo               326\n",
       "Uplay                  199\n",
       "Origin                 191\n",
       "Playstation            141\n",
       "Other platform          95\n",
       "Epic Games              82\n",
       "Xbox Play Anywhere      48\n",
       "Battle.net              37\n",
       "Rockstar                21\n",
       "GOG.com                 15\n",
       "Bethesda                14\n",
       "Microsoft Store         11\n",
       "Ncsoft                   7\n",
       "Software                 4\n",
       "STEAM                    1\n",
       "Name: platform, dtype: int64"
      ]
     },
     "execution_count": 9,
     "metadata": {},
     "output_type": "execute_result"
    }
   ],
   "source": [
    "gameData['platform'].value_counts()"
   ]
  },
  {
   "cell_type": "code",
   "execution_count": 10,
   "metadata": {},
   "outputs": [
    {
     "data": {
      "text/plain": [
       "<AxesSubplot:>"
      ]
     },
     "execution_count": 10,
     "metadata": {},
     "output_type": "execute_result"
    },
    {
     "data": {
      "image/png": "[encoded data removed]",
      "text/plain": [
       "<Figure size 432x288 with 1 Axes>"
      ]
     },
     "metadata": {
      "needs_background": "light"
     },
     "output_type": "display_data"
    }
   ],
   "source": [
    "gameData['platform'].value_counts().plot.bar()"
   ]
  },
  {
   "cell_type": "markdown",
   "metadata": {},
   "source": [
    "## user_rating coloum"
   ]
  },
  {
   "cell_type": "code",
   "execution_count": 12,
   "metadata": {},
   "outputs": [
    {
     "data": {
      "text/plain": [
       "count    3594.000000\n",
       "mean       79.604341\n",
       "std        17.018297\n",
       "min        10.000000\n",
       "25%        73.000000\n",
       "50%        84.000000\n",
       "75%        90.000000\n",
       "max       100.000000\n",
       "Name: user_rating, dtype: float64"
      ]
     },
     "execution_count": 12,
     "metadata": {},
     "output_type": "execute_result"
    }
   ],
   "source": [
    "gameData['user_rating'].describe()"
   ]
  },
  {
   "cell_type": "code",
   "execution_count": 22,
   "metadata": {},
   "outputs": [
    {
     "data": {
      "text/plain": [
       "<AxesSubplot:ylabel='Frequency'>"
      ]
     },
     "execution_count": 22,
     "metadata": {},
     "output_type": "execute_result"
    },
    {
     "data": {
      "image/png": "[encoded data removed]",
      "text/plain": [
       "<Figure size 432x288 with 1 Axes>"
      ]
     },
     "metadata": {
      "needs_background": "light"
     },
     "output_type": "display_data"
    }
   ],
   "source": [
    "gameData['user_rating'].plot.hist(bins=20)"
   ]
  },
  {
   "cell_type": "markdown",
   "metadata": {},
   "source": [
    "### assignment 7a - Histogram type\n",
    "gameData user_rating histogram has a Power Long normal Distribution"
   ]
  },
  {
   "cell_type": "code",
   "execution_count": 27,
   "metadata": {},
   "outputs": [
    {
     "data": {
      "text/plain": [
       "<AxesSubplot:>"
      ]
     },
     "execution_count": 27,
     "metadata": {},
     "output_type": "execute_result"
    },
    {
     "data": {
      "image/png": "[encoded data removed]",
      "text/plain": [
       "<Figure size 432x288 with 1 Axes>"
      ]
     },
     "metadata": {
      "needs_background": "light"
     },
     "output_type": "display_data"
    }
   ],
   "source": [
    "gameData['user_rating'].plot.box(vert = False)"
   ]
  },
  {
   "cell_type": "markdown",
   "metadata": {},
   "source": [
    "### assingment 8a - confidence intervals"
   ]
  },
  {
   "cell_type": "code",
   "execution_count": 51,
   "metadata": {},
   "outputs": [
    {
     "data": {
      "text/plain": [
       "(79.13734479653186, 80.0713363386935)"
      ]
     },
     "execution_count": 51,
     "metadata": {},
     "output_type": "execute_result"
    }
   ],
   "source": [
    "confidence = 0.90\n",
    "user_rate = gameData['user_rating']\n",
    "st.t.interval(confidence, len(user_rate)-1, loc=user_rate.mean(), scale=st.sem(user_rate, nan_policy='omit'))"
   ]
  },
  {
   "cell_type": "code",
   "execution_count": 55,
   "metadata": {},
   "outputs": [
    {
     "data": {
      "text/plain": [
       "(79.04785775226834, 80.16082338295702)"
      ]
     },
     "execution_count": 55,
     "metadata": {},
     "output_type": "execute_result"
    }
   ],
   "source": [
    "confidence = 0.95\n",
    "st.t.interval(confidence, len(user_rate)-1, loc=user_rate.mean(), scale=st.sem(user_rate, nan_policy='omit'))"
   ]
  },
  {
   "cell_type": "code",
   "execution_count": 59,
   "metadata": {},
   "outputs": [
    {
     "data": {
      "text/plain": [
       "(78.87292373072067, 80.33575740450469)"
      ]
     },
     "execution_count": 59,
     "metadata": {},
     "output_type": "execute_result"
    }
   ],
   "source": [
    "confidence = 0.99\n",
    "st.t.interval(confidence, len(user_rate)-1, loc=user_rate.mean(), scale=st.sem(user_rate, nan_policy='omit'))"
   ]
  },
  {
   "cell_type": "code",
   "execution_count": 60,
   "metadata": {},
   "outputs": [
    {
     "data": {
      "text/plain": [
       "(78.49924938508835, 80.70943175013701)"
      ]
     },
     "execution_count": 60,
     "metadata": {},
     "output_type": "execute_result"
    }
   ],
   "source": [
    "confidence = 0.9999\n",
    "st.t.interval(confidence, len(user_rate)-1, loc=user_rate.mean(), scale=st.sem(user_rate, nan_policy='omit'))"
   ]
  },
  {
   "cell_type": "code",
   "execution_count": 79,
   "metadata": {},
   "outputs": [
    {
     "data": {
      "text/plain": [
       "(81.68834159243744, 83.6494962454004)"
      ]
     },
     "execution_count": 79,
     "metadata": {},
     "output_type": "execute_result"
    }
   ],
   "source": [
    "confidence = 0.95\n",
    "first_ten_p = user_rate[:int(len(user_rate)*0.10)]\n",
    "st.t.interval(confidence, len(first_ten_p)-1, loc=first_ten_p.mean(), scale=st.sem(first_ten_p, nan_policy='omit'))"
   ]
  },
  {
   "cell_type": "markdown",
   "metadata": {},
   "source": [
    "## rating_review coloum"
   ]
  },
  {
   "cell_type": "code",
   "execution_count": 82,
   "metadata": {},
   "outputs": [
    {
     "data": {
      "text/plain": [
       "count    3604.000000\n",
       "mean       81.911765\n",
       "std        23.430044\n",
       "min        10.000000\n",
       "25%        80.000000\n",
       "50%        90.000000\n",
       "75%       100.000000\n",
       "max       100.000000\n",
       "Name: rating_review, dtype: float64"
      ]
     },
     "execution_count": 82,
     "metadata": {},
     "output_type": "execute_result"
    }
   ],
   "source": [
    "gameData['rating_review'].describe()"
   ]
  },
  {
   "cell_type": "code",
   "execution_count": 28,
   "metadata": {},
   "outputs": [
    {
     "data": {
      "text/plain": [
       "<AxesSubplot:ylabel='Frequency'>"
      ]
     },
     "execution_count": 28,
     "metadata": {},
     "output_type": "execute_result"
    },
    {
     "data": {
      "image/png": "[encoded data removed]",
      "text/plain": [
       "<Figure size 432x288 with 1 Axes>"
      ]
     },
     "metadata": {
      "needs_background": "light"
     },
     "output_type": "display_data"
    }
   ],
   "source": [
    "gameData['rating_review'].plot.hist(bins = 20)"
   ]
  },
  {
   "cell_type": "markdown",
   "metadata": {},
   "source": [
    "### assingment 7b - Histogram type\n",
    "gameData rating_review has a Birnbaum-Saunders (Fatigue Life) distribution"
   ]
  },
  {
   "cell_type": "code",
   "execution_count": 17,
   "metadata": {},
   "outputs": [
    {
     "data": {
      "text/plain": [
       "<AxesSubplot:>"
      ]
     },
     "execution_count": 17,
     "metadata": {},
     "output_type": "execute_result"
    },
    {
     "data": {
      "image/png": "[encoded data removed]",
      "text/plain": [
       "<Figure size 432x288 with 1 Axes>"
      ]
     },
     "metadata": {
      "needs_background": "light"
     },
     "output_type": "display_data"
    }
   ],
   "source": [
    "gameData['rating_review'].plot.box(vert = False)"
   ]
  },
  {
   "cell_type": "markdown",
   "metadata": {},
   "source": [
    "### assingment 8b - confidence intervals"
   ]
  },
  {
   "cell_type": "code",
   "execution_count": 89,
   "metadata": {},
   "outputs": [
    {
     "data": {
      "text/plain": [
       "(81.26971802953338, 82.55381138223132)"
      ]
     },
     "execution_count": 89,
     "metadata": {},
     "output_type": "execute_result"
    }
   ],
   "source": [
    "confidence = 0.90\n",
    "rev_rate = gameData['rating_review']\n",
    "st.t.interval(confidence, len(rev_rate)-1, loc=rev_rate.mean(), scale=st.sem(rev_rate, nan_policy='omit'))"
   ]
  },
  {
   "cell_type": "code",
   "execution_count": 90,
   "metadata": {},
   "outputs": [
    {
     "data": {
      "text/plain": [
       "(81.14668723802811, 82.67684217373659)"
      ]
     },
     "execution_count": 90,
     "metadata": {},
     "output_type": "execute_result"
    }
   ],
   "source": [
    "confidence = 0.95\n",
    "st.t.interval(confidence, len(rev_rate)-1, loc=rev_rate.mean(), scale=st.sem(rev_rate, nan_policy='omit'))"
   ]
  },
  {
   "cell_type": "code",
   "execution_count": 91,
   "metadata": {},
   "outputs": [
    {
     "data": {
      "text/plain": [
       "(80.90618011982639, 82.91734929193831)"
      ]
     },
     "execution_count": 91,
     "metadata": {},
     "output_type": "execute_result"
    }
   ],
   "source": [
    "confidence = 0.99\n",
    "st.t.interval(confidence, len(rev_rate)-1, loc=rev_rate.mean(), scale=st.sem(rev_rate, nan_policy='omit'))"
   ]
  },
  {
   "cell_type": "code",
   "execution_count": 92,
   "metadata": {},
   "outputs": [
    {
     "data": {
      "text/plain": [
       "(80.39243591376037, 83.43109349800433)"
      ]
     },
     "execution_count": 92,
     "metadata": {},
     "output_type": "execute_result"
    }
   ],
   "source": [
    "confidence = 0.9999\n",
    "st.t.interval(confidence, len(rev_rate)-1, loc=rev_rate.mean(), scale=st.sem(rev_rate, nan_policy='omit'))"
   ]
  },
  {
   "cell_type": "code",
   "execution_count": 93,
   "metadata": {},
   "outputs": [
    {
     "data": {
      "text/plain": [
       "(85.10072441387352, 88.34522153207242)"
      ]
     },
     "execution_count": 93,
     "metadata": {},
     "output_type": "execute_result"
    }
   ],
   "source": [
    "confidence = 0.95\n",
    "first_ten_p = rev_rate[:int(len(user_rate)*0.10)]\n",
    "st.t.interval(confidence, len(first_ten_p)-1, loc=first_ten_p.mean(), scale=st.sem(first_ten_p, nan_policy='omit'))"
   ]
  }
 ],
 "metadata": {
  "kernelspec": {
   "display_name": "Python 3",
   "language": "python",
   "name": "python3"
  },
  "language_info": {
   "codemirror_mode": {
    "name": "ipython",
    "version": 3
   },
   "file_extension": ".py",
   "mimetype": "text/x-python",
   "name": "python",
   "nbconvert_exporter": "python",
   "pygments_lexer": "ipython3",
   "version": "3.8.5"
  }
 },
 "nbformat": 4,
 "nbformat_minor": 4
}
