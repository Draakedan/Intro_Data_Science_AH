{
 "cells": [
  {
   "cell_type": "code",
   "execution_count": 2,
   "metadata": {},
   "outputs": [],
   "source": [
    "import pandas as pd"
   ]
  },
  {
   "cell_type": "code",
   "execution_count": 10,
   "metadata": {},
   "outputs": [
    {
     "data": {
      "text/html": [
       "<div>\n",
       "<style scoped>\n",
       "    .dataframe tbody tr th:only-of-type {\n",
       "        vertical-align: middle;\n",
       "    }\n",
       "\n",
       "    .dataframe tbody tr th {\n",
       "        vertical-align: top;\n",
       "    }\n",
       "\n",
       "    .dataframe thead th {\n",
       "        text-align: right;\n",
       "    }\n",
       "</style>\n",
       "<table border=\"1\" class=\"dataframe\">\n",
       "  <thead>\n",
       "    <tr style=\"text-align: right;\">\n",
       "      <th></th>\n",
       "      <th>gender</th>\n",
       "      <th>race/ethnicity</th>\n",
       "      <th>parental level of education</th>\n",
       "      <th>lunch</th>\n",
       "      <th>test preparation course</th>\n",
       "      <th>math score</th>\n",
       "      <th>reading score</th>\n",
       "      <th>writing score</th>\n",
       "    </tr>\n",
       "  </thead>\n",
       "  <tbody>\n",
       "    <tr>\n",
       "      <th>0</th>\n",
       "      <td>female</td>\n",
       "      <td>group B</td>\n",
       "      <td>bachelor's degree</td>\n",
       "      <td>standard</td>\n",
       "      <td>none</td>\n",
       "      <td>72</td>\n",
       "      <td>72</td>\n",
       "      <td>74</td>\n",
       "    </tr>\n",
       "    <tr>\n",
       "      <th>1</th>\n",
       "      <td>female</td>\n",
       "      <td>group C</td>\n",
       "      <td>some college</td>\n",
       "      <td>standard</td>\n",
       "      <td>completed</td>\n",
       "      <td>69</td>\n",
       "      <td>90</td>\n",
       "      <td>88</td>\n",
       "    </tr>\n",
       "    <tr>\n",
       "      <th>2</th>\n",
       "      <td>female</td>\n",
       "      <td>group B</td>\n",
       "      <td>master's degree</td>\n",
       "      <td>standard</td>\n",
       "      <td>none</td>\n",
       "      <td>90</td>\n",
       "      <td>95</td>\n",
       "      <td>93</td>\n",
       "    </tr>\n",
       "    <tr>\n",
       "      <th>3</th>\n",
       "      <td>male</td>\n",
       "      <td>group A</td>\n",
       "      <td>associate's degree</td>\n",
       "      <td>free/reduced</td>\n",
       "      <td>none</td>\n",
       "      <td>47</td>\n",
       "      <td>57</td>\n",
       "      <td>44</td>\n",
       "    </tr>\n",
       "    <tr>\n",
       "      <th>4</th>\n",
       "      <td>male</td>\n",
       "      <td>group C</td>\n",
       "      <td>some college</td>\n",
       "      <td>standard</td>\n",
       "      <td>none</td>\n",
       "      <td>76</td>\n",
       "      <td>78</td>\n",
       "      <td>75</td>\n",
       "    </tr>\n",
       "  </tbody>\n",
       "</table>\n",
       "</div>"
      ],
      "text/plain": [
       "   gender race/ethnicity parental level of education         lunch  \\\n",
       "0  female        group B           bachelor's degree      standard   \n",
       "1  female        group C                some college      standard   \n",
       "2  female        group B             master's degree      standard   \n",
       "3    male        group A          associate's degree  free/reduced   \n",
       "4    male        group C                some college      standard   \n",
       "\n",
       "  test preparation course  math score  reading score  writing score  \n",
       "0                    none          72             72             74  \n",
       "1               completed          69             90             88  \n",
       "2                    none          90             95             93  \n",
       "3                    none          47             57             44  \n",
       "4                    none          76             78             75  "
      ]
     },
     "execution_count": 10,
     "metadata": {},
     "output_type": "execute_result"
    }
   ],
   "source": [
    "students = pd.read_csv(\"StudentsPerformance.csv\")\n",
    "students.head()"
   ]
  },
  {
   "cell_type": "markdown",
   "metadata": {},
   "source": [
    "## predicting gender"
   ]
  },
  {
   "cell_type": "markdown",
   "metadata": {},
   "source": [
    "### Set up the model"
   ]
  },
  {
   "cell_type": "code",
   "execution_count": 11,
   "metadata": {},
   "outputs": [],
   "source": [
    "from sklearn.tree import DecisionTreeClassifier as dtc"
   ]
  },
  {
   "cell_type": "code",
   "execution_count": 12,
   "metadata": {},
   "outputs": [],
   "source": [
    "from sklearn import tree \n",
    "import graphviz\n",
    "\n",
    "def plot_tree_classification(model, features, class_names) :\n",
    "    dot_data = tree.export_graphviz(model, out_file=None,\n",
    "                                   feature_names=features,\n",
    "                                   class_names=class_names,\n",
    "                                   filled=True, rounded=True,\n",
    "                                   special_characters=True)\n",
    "    graph = graphviz.Source(dot_data)\n",
    "    graph.render(\"decision_tree\")\n",
    "    return graph"
   ]
  },
  {
   "cell_type": "code",
   "execution_count": 13,
   "metadata": {},
   "outputs": [],
   "source": [
    "def calculate_accuracy(predictions, actuals):\n",
    "    if(len(predictions) != len(actuals)):\n",
    "        raise Exception(\"The amount of predictions did not equal the amount of actuals\")\n",
    "    \n",
    "    return (predictions == actuals).sum() / len(actuals)"
   ]
  },
  {
   "cell_type": "markdown",
   "metadata": {},
   "source": [
    "### Test/train split"
   ]
  },
  {
   "cell_type": "code",
   "execution_count": 14,
   "metadata": {},
   "outputs": [],
   "source": [
    "from sklearn.model_selection import train_test_split as tts"
   ]
  },
  {
   "cell_type": "code",
   "execution_count": 16,
   "metadata": {},
   "outputs": [
    {
     "name": "stdout",
     "output_type": "stream",
     "text": [
      "(700, 8) (300, 8)\n"
     ]
    }
   ],
   "source": [
    "student_train, student_test = tts(students, test_size = 0.3, stratify=students['gender'], random_state = 44)\n",
    "print (student_train.shape, student_test.shape)"
   ]
  },
  {
   "cell_type": "code",
   "execution_count": 23,
   "metadata": {},
   "outputs": [
    {
     "data": {
      "text/plain": [
       "DecisionTreeClassifier(max_depth=3)"
      ]
     },
     "execution_count": 23,
     "metadata": {},
     "output_type": "execute_result"
    }
   ],
   "source": [
    "features = ['math score', 'reading score']\n",
    "dt = dtc(max_depth=3)\n",
    "dt.fit(student_train[features], student_train['gender'])"
   ]
  },
  {
   "cell_type": "code",
   "execution_count": 24,
   "metadata": {},
   "outputs": [
    {
     "data": {
      "image/svg+xml": [
       "<?xml version=\"1.0\" encoding=\"UTF-8\" standalone=\"no\"?>\r\n",
       "<!DOCTYPE svg PUBLIC \"-//W3C//DTD SVG 1.1//EN\"\r\n",
       " \"http://www.w3.org/Graphics/SVG/1.1/DTD/svg11.dtd\">\r\n",
       "<!-- Generated by graphviz version 2.38.0 (20140413.2041)\r\n",
       " -->\r\n",
       "<!-- Title: Tree Pages: 1 -->\r\n",
       "<svg width=\"1021pt\" height=\"433pt\"\r\n",
       " viewBox=\"0.00 0.00 1020.50 433.00\" xmlns=\"http://www.w3.org/2000/svg\" xmlns:xlink=\"http://www.w3.org/1999/xlink\">\r\n",
       "<g id=\"graph0\" class=\"graph\" transform=\"scale(1 1) rotate(0) translate(4 429)\">\r\n",
       "<title>Tree</title>\r\n",
       "<polygon fill=\"white\" stroke=\"none\" points=\"-4,4 -4,-429 1016.5,-429 1016.5,4 -4,4\"/>\r\n",
       "<!-- 0 -->\r\n",
       "<g id=\"node1\" class=\"node\"><title>0</title>\r\n",
       "<path fill=\"#fdf6f1\" stroke=\"black\" d=\"M593.5,-425C593.5,-425 470.5,-425 470.5,-425 464.5,-425 458.5,-419 458.5,-413 458.5,-413 458.5,-354 458.5,-354 458.5,-348 464.5,-342 470.5,-342 470.5,-342 593.5,-342 593.5,-342 599.5,-342 605.5,-348 605.5,-354 605.5,-354 605.5,-413 605.5,-413 605.5,-419 599.5,-425 593.5,-425\"/>\r\n",
       "<text text-anchor=\"start\" x=\"466.5\" y=\"-409.8\" font-family=\"Helvetica,sans-Serif\" font-size=\"14.00\">reading score ≤ 84.5</text>\r\n",
       "<text text-anchor=\"start\" x=\"494.5\" y=\"-394.8\" font-family=\"Helvetica,sans-Serif\" font-size=\"14.00\">gini = 0.499</text>\r\n",
       "<text text-anchor=\"start\" x=\"484.5\" y=\"-379.8\" font-family=\"Helvetica,sans-Serif\" font-size=\"14.00\">samples = 700</text>\r\n",
       "<text text-anchor=\"start\" x=\"475\" y=\"-364.8\" font-family=\"Helvetica,sans-Serif\" font-size=\"14.00\">value = [363, 337]</text>\r\n",
       "<text text-anchor=\"start\" x=\"492\" y=\"-349.8\" font-family=\"Helvetica,sans-Serif\" font-size=\"14.00\">class = male</text>\r\n",
       "</g>\r\n",
       "<!-- 1 -->\r\n",
       "<g id=\"node2\" class=\"node\"><title>1</title>\r\n",
       "<path fill=\"#eaf4fc\" stroke=\"black\" d=\"M491.5,-306C491.5,-306 384.5,-306 384.5,-306 378.5,-306 372.5,-300 372.5,-294 372.5,-294 372.5,-235 372.5,-235 372.5,-229 378.5,-223 384.5,-223 384.5,-223 491.5,-223 491.5,-223 497.5,-223 503.5,-229 503.5,-235 503.5,-235 503.5,-294 503.5,-294 503.5,-300 497.5,-306 491.5,-306\"/>\r\n",
       "<text text-anchor=\"start\" x=\"380.5\" y=\"-290.8\" font-family=\"Helvetica,sans-Serif\" font-size=\"14.00\">math score ≤ 77.5</text>\r\n",
       "<text text-anchor=\"start\" x=\"400.5\" y=\"-275.8\" font-family=\"Helvetica,sans-Serif\" font-size=\"14.00\">gini = 0.498</text>\r\n",
       "<text text-anchor=\"start\" x=\"390.5\" y=\"-260.8\" font-family=\"Helvetica,sans-Serif\" font-size=\"14.00\">samples = 594</text>\r\n",
       "<text text-anchor=\"start\" x=\"381\" y=\"-245.8\" font-family=\"Helvetica,sans-Serif\" font-size=\"14.00\">value = [280, 314]</text>\r\n",
       "<text text-anchor=\"start\" x=\"391.5\" y=\"-230.8\" font-family=\"Helvetica,sans-Serif\" font-size=\"14.00\">class = female</text>\r\n",
       "</g>\r\n",
       "<!-- 0&#45;&gt;1 -->\r\n",
       "<g id=\"edge1\" class=\"edge\"><title>0&#45;&gt;1</title>\r\n",
       "<path fill=\"none\" stroke=\"black\" d=\"M499.387,-341.907C492.169,-332.923 484.45,-323.315 477.006,-314.05\"/>\r\n",
       "<polygon fill=\"black\" stroke=\"black\" points=\"479.547,-311.624 470.555,-306.021 474.09,-316.009 479.547,-311.624\"/>\r\n",
       "<text text-anchor=\"middle\" x=\"467.846\" y=\"-327.174\" font-family=\"Helvetica,sans-Serif\" font-size=\"14.00\">True</text>\r\n",
       "</g>\r\n",
       "<!-- 8 -->\r\n",
       "<g id=\"node9\" class=\"node\"><title>8</title>\r\n",
       "<path fill=\"#eca470\" stroke=\"black\" d=\"M680.5,-306C680.5,-306 573.5,-306 573.5,-306 567.5,-306 561.5,-300 561.5,-294 561.5,-294 561.5,-235 561.5,-235 561.5,-229 567.5,-223 573.5,-223 573.5,-223 680.5,-223 680.5,-223 686.5,-223 692.5,-229 692.5,-235 692.5,-235 692.5,-294 692.5,-294 692.5,-300 686.5,-306 680.5,-306\"/>\r\n",
       "<text text-anchor=\"start\" x=\"569.5\" y=\"-290.8\" font-family=\"Helvetica,sans-Serif\" font-size=\"14.00\">math score ≤ 86.5</text>\r\n",
       "<text text-anchor=\"start\" x=\"593.5\" y=\"-275.8\" font-family=\"Helvetica,sans-Serif\" font-size=\"14.00\">gini = 0.34</text>\r\n",
       "<text text-anchor=\"start\" x=\"579.5\" y=\"-260.8\" font-family=\"Helvetica,sans-Serif\" font-size=\"14.00\">samples = 106</text>\r\n",
       "<text text-anchor=\"start\" x=\"578.5\" y=\"-245.8\" font-family=\"Helvetica,sans-Serif\" font-size=\"14.00\">value = [83, 23]</text>\r\n",
       "<text text-anchor=\"start\" x=\"587\" y=\"-230.8\" font-family=\"Helvetica,sans-Serif\" font-size=\"14.00\">class = male</text>\r\n",
       "</g>\r\n",
       "<!-- 0&#45;&gt;8 -->\r\n",
       "<g id=\"edge8\" class=\"edge\"><title>0&#45;&gt;8</title>\r\n",
       "<path fill=\"none\" stroke=\"black\" d=\"M564.96,-341.907C572.255,-332.923 580.056,-323.315 587.579,-314.05\"/>\r\n",
       "<polygon fill=\"black\" stroke=\"black\" points=\"590.512,-315.99 594.098,-306.021 585.078,-311.578 590.512,-315.99\"/>\r\n",
       "<text text-anchor=\"middle\" x=\"596.679\" y=\"-327.187\" font-family=\"Helvetica,sans-Serif\" font-size=\"14.00\">False</text>\r\n",
       "</g>\r\n",
       "<!-- 2 -->\r\n",
       "<g id=\"node3\" class=\"node\"><title>2</title>\r\n",
       "<path fill=\"#fcf1e9\" stroke=\"black\" d=\"M270.5,-187C270.5,-187 147.5,-187 147.5,-187 141.5,-187 135.5,-181 135.5,-175 135.5,-175 135.5,-116 135.5,-116 135.5,-110 141.5,-104 147.5,-104 147.5,-104 270.5,-104 270.5,-104 276.5,-104 282.5,-110 282.5,-116 282.5,-116 282.5,-175 282.5,-175 282.5,-181 276.5,-187 270.5,-187\"/>\r\n",
       "<text text-anchor=\"start\" x=\"143.5\" y=\"-171.8\" font-family=\"Helvetica,sans-Serif\" font-size=\"14.00\">reading score ≤ 71.5</text>\r\n",
       "<text text-anchor=\"start\" x=\"171.5\" y=\"-156.8\" font-family=\"Helvetica,sans-Serif\" font-size=\"14.00\">gini = 0.498</text>\r\n",
       "<text text-anchor=\"start\" x=\"161.5\" y=\"-141.8\" font-family=\"Helvetica,sans-Serif\" font-size=\"14.00\">samples = 514</text>\r\n",
       "<text text-anchor=\"start\" x=\"152\" y=\"-126.8\" font-family=\"Helvetica,sans-Serif\" font-size=\"14.00\">value = [272, 242]</text>\r\n",
       "<text text-anchor=\"start\" x=\"169\" y=\"-111.8\" font-family=\"Helvetica,sans-Serif\" font-size=\"14.00\">class = male</text>\r\n",
       "</g>\r\n",
       "<!-- 1&#45;&gt;2 -->\r\n",
       "<g id=\"edge2\" class=\"edge\"><title>1&#45;&gt;2</title>\r\n",
       "<path fill=\"none\" stroke=\"black\" d=\"M372.378,-229.972C347.314,-217.167 318.403,-202.396 291.933,-188.872\"/>\r\n",
       "<polygon fill=\"black\" stroke=\"black\" points=\"293.181,-185.579 282.683,-184.146 289.996,-191.812 293.181,-185.579\"/>\r\n",
       "</g>\r\n",
       "<!-- 5 -->\r\n",
       "<g id=\"node6\" class=\"node\"><title>5</title>\r\n",
       "<path fill=\"#4fa8e8\" stroke=\"black\" d=\"M499.5,-187C499.5,-187 376.5,-187 376.5,-187 370.5,-187 364.5,-181 364.5,-175 364.5,-175 364.5,-116 364.5,-116 364.5,-110 370.5,-104 376.5,-104 376.5,-104 499.5,-104 499.5,-104 505.5,-104 511.5,-110 511.5,-116 511.5,-116 511.5,-175 511.5,-175 511.5,-181 505.5,-187 499.5,-187\"/>\r\n",
       "<text text-anchor=\"start\" x=\"372.5\" y=\"-171.8\" font-family=\"Helvetica,sans-Serif\" font-size=\"14.00\">reading score ≤ 79.5</text>\r\n",
       "<text text-anchor=\"start\" x=\"404.5\" y=\"-156.8\" font-family=\"Helvetica,sans-Serif\" font-size=\"14.00\">gini = 0.18</text>\r\n",
       "<text text-anchor=\"start\" x=\"394.5\" y=\"-141.8\" font-family=\"Helvetica,sans-Serif\" font-size=\"14.00\">samples = 80</text>\r\n",
       "<text text-anchor=\"start\" x=\"393.5\" y=\"-126.8\" font-family=\"Helvetica,sans-Serif\" font-size=\"14.00\">value = [8, 72]</text>\r\n",
       "<text text-anchor=\"start\" x=\"391.5\" y=\"-111.8\" font-family=\"Helvetica,sans-Serif\" font-size=\"14.00\">class = female</text>\r\n",
       "</g>\r\n",
       "<!-- 1&#45;&gt;5 -->\r\n",
       "<g id=\"edge5\" class=\"edge\"><title>1&#45;&gt;5</title>\r\n",
       "<path fill=\"none\" stroke=\"black\" d=\"M438,-222.907C438,-214.649 438,-205.864 438,-197.302\"/>\r\n",
       "<polygon fill=\"black\" stroke=\"black\" points=\"441.5,-197.021 438,-187.021 434.5,-197.021 441.5,-197.021\"/>\r\n",
       "</g>\r\n",
       "<!-- 3 -->\r\n",
       "<g id=\"node4\" class=\"node\"><title>3</title>\r\n",
       "<path fill=\"#d3e9f9\" stroke=\"black\" d=\"M118,-68C118,-68 12,-68 12,-68 6,-68 0,-62 0,-56 0,-56 0,-12 0,-12 0,-6 6,-0 12,-0 12,-0 118,-0 118,-0 124,-0 130,-6 130,-12 130,-12 130,-56 130,-56 130,-62 124,-68 118,-68\"/>\r\n",
       "<text text-anchor=\"start\" x=\"27.5\" y=\"-52.8\" font-family=\"Helvetica,sans-Serif\" font-size=\"14.00\">gini = 0.492</text>\r\n",
       "<text text-anchor=\"start\" x=\"17.5\" y=\"-37.8\" font-family=\"Helvetica,sans-Serif\" font-size=\"14.00\">samples = 368</text>\r\n",
       "<text text-anchor=\"start\" x=\"8\" y=\"-22.8\" font-family=\"Helvetica,sans-Serif\" font-size=\"14.00\">value = [161, 207]</text>\r\n",
       "<text text-anchor=\"start\" x=\"18.5\" y=\"-7.8\" font-family=\"Helvetica,sans-Serif\" font-size=\"14.00\">class = female</text>\r\n",
       "</g>\r\n",
       "<!-- 2&#45;&gt;3 -->\r\n",
       "<g id=\"edge3\" class=\"edge\"><title>2&#45;&gt;3</title>\r\n",
       "<path fill=\"none\" stroke=\"black\" d=\"M155.38,-103.726C142.785,-94.1494 129.387,-83.9611 116.871,-74.4438\"/>\r\n",
       "<polygon fill=\"black\" stroke=\"black\" points=\"118.87,-71.5666 108.791,-68.2996 114.633,-77.1386 118.87,-71.5666\"/>\r\n",
       "</g>\r\n",
       "<!-- 4 -->\r\n",
       "<g id=\"node5\" class=\"node\"><title>4</title>\r\n",
       "<path fill=\"#eda977\" stroke=\"black\" d=\"M258,-68C258,-68 160,-68 160,-68 154,-68 148,-62 148,-56 148,-56 148,-12 148,-12 148,-6 154,-0 160,-0 160,-0 258,-0 258,-0 264,-0 270,-6 270,-12 270,-12 270,-56 270,-56 270,-62 264,-68 258,-68\"/>\r\n",
       "<text text-anchor=\"start\" x=\"171.5\" y=\"-52.8\" font-family=\"Helvetica,sans-Serif\" font-size=\"14.00\">gini = 0.365</text>\r\n",
       "<text text-anchor=\"start\" x=\"161.5\" y=\"-37.8\" font-family=\"Helvetica,sans-Serif\" font-size=\"14.00\">samples = 146</text>\r\n",
       "<text text-anchor=\"start\" x=\"156\" y=\"-22.8\" font-family=\"Helvetica,sans-Serif\" font-size=\"14.00\">value = [111, 35]</text>\r\n",
       "<text text-anchor=\"start\" x=\"169\" y=\"-7.8\" font-family=\"Helvetica,sans-Serif\" font-size=\"14.00\">class = male</text>\r\n",
       "</g>\r\n",
       "<!-- 2&#45;&gt;4 -->\r\n",
       "<g id=\"edge4\" class=\"edge\"><title>2&#45;&gt;4</title>\r\n",
       "<path fill=\"none\" stroke=\"black\" d=\"M209,-103.726C209,-95.5175 209,-86.8595 209,-78.56\"/>\r\n",
       "<polygon fill=\"black\" stroke=\"black\" points=\"212.5,-78.2996 209,-68.2996 205.5,-78.2996 212.5,-78.2996\"/>\r\n",
       "</g>\r\n",
       "<!-- 6 -->\r\n",
       "<g id=\"node7\" class=\"node\"><title>6</title>\r\n",
       "<path fill=\"#3d9fe6\" stroke=\"black\" d=\"M385.5,-68C385.5,-68 300.5,-68 300.5,-68 294.5,-68 288.5,-62 288.5,-56 288.5,-56 288.5,-12 288.5,-12 288.5,-6 294.5,-0 300.5,-0 300.5,-0 385.5,-0 385.5,-0 391.5,-0 397.5,-6 397.5,-12 397.5,-12 397.5,-56 397.5,-56 397.5,-62 391.5,-68 385.5,-68\"/>\r\n",
       "<text text-anchor=\"start\" x=\"305.5\" y=\"-52.8\" font-family=\"Helvetica,sans-Serif\" font-size=\"14.00\">gini = 0.042</text>\r\n",
       "<text text-anchor=\"start\" x=\"299.5\" y=\"-37.8\" font-family=\"Helvetica,sans-Serif\" font-size=\"14.00\">samples = 47</text>\r\n",
       "<text text-anchor=\"start\" x=\"298.5\" y=\"-22.8\" font-family=\"Helvetica,sans-Serif\" font-size=\"14.00\">value = [1, 46]</text>\r\n",
       "<text text-anchor=\"start\" x=\"296.5\" y=\"-7.8\" font-family=\"Helvetica,sans-Serif\" font-size=\"14.00\">class = female</text>\r\n",
       "</g>\r\n",
       "<!-- 5&#45;&gt;6 -->\r\n",
       "<g id=\"edge6\" class=\"edge\"><title>5&#45;&gt;6</title>\r\n",
       "<path fill=\"none\" stroke=\"black\" d=\"M402.626,-103.726C394.792,-94.6966 386.486,-85.1235 378.642,-76.0816\"/>\r\n",
       "<polygon fill=\"black\" stroke=\"black\" points=\"381.087,-73.5595 371.89,-68.2996 375.8,-78.1467 381.087,-73.5595\"/>\r\n",
       "</g>\r\n",
       "<!-- 7 -->\r\n",
       "<g id=\"node8\" class=\"node\"><title>7</title>\r\n",
       "<path fill=\"#6eb7ec\" stroke=\"black\" d=\"M512.5,-68C512.5,-68 427.5,-68 427.5,-68 421.5,-68 415.5,-62 415.5,-56 415.5,-56 415.5,-12 415.5,-12 415.5,-6 421.5,-0 427.5,-0 427.5,-0 512.5,-0 512.5,-0 518.5,-0 524.5,-6 524.5,-12 524.5,-12 524.5,-56 524.5,-56 524.5,-62 518.5,-68 512.5,-68\"/>\r\n",
       "<text text-anchor=\"start\" x=\"432.5\" y=\"-52.8\" font-family=\"Helvetica,sans-Serif\" font-size=\"14.00\">gini = 0.334</text>\r\n",
       "<text text-anchor=\"start\" x=\"426.5\" y=\"-37.8\" font-family=\"Helvetica,sans-Serif\" font-size=\"14.00\">samples = 33</text>\r\n",
       "<text text-anchor=\"start\" x=\"425.5\" y=\"-22.8\" font-family=\"Helvetica,sans-Serif\" font-size=\"14.00\">value = [7, 26]</text>\r\n",
       "<text text-anchor=\"start\" x=\"423.5\" y=\"-7.8\" font-family=\"Helvetica,sans-Serif\" font-size=\"14.00\">class = female</text>\r\n",
       "</g>\r\n",
       "<!-- 5&#45;&gt;7 -->\r\n",
       "<g id=\"edge7\" class=\"edge\"><title>5&#45;&gt;7</title>\r\n",
       "<path fill=\"none\" stroke=\"black\" d=\"M449.916,-103.726C452.368,-95.3351 454.957,-86.4745 457.432,-78.0072\"/>\r\n",
       "<polygon fill=\"black\" stroke=\"black\" points=\"460.823,-78.8799 460.269,-68.2996 454.104,-76.9163 460.823,-78.8799\"/>\r\n",
       "</g>\r\n",
       "<!-- 9 -->\r\n",
       "<g id=\"node10\" class=\"node\"><title>9</title>\r\n",
       "<path fill=\"#e68540\" stroke=\"black\" d=\"M680.5,-187C680.5,-187 573.5,-187 573.5,-187 567.5,-187 561.5,-181 561.5,-175 561.5,-175 561.5,-116 561.5,-116 561.5,-110 567.5,-104 573.5,-104 573.5,-104 680.5,-104 680.5,-104 686.5,-104 692.5,-110 692.5,-116 692.5,-116 692.5,-175 692.5,-175 692.5,-181 686.5,-187 680.5,-187\"/>\r\n",
       "<text text-anchor=\"start\" x=\"569.5\" y=\"-171.8\" font-family=\"Helvetica,sans-Serif\" font-size=\"14.00\">math score ≤ 83.5</text>\r\n",
       "<text text-anchor=\"start\" x=\"589.5\" y=\"-156.8\" font-family=\"Helvetica,sans-Serif\" font-size=\"14.00\">gini = 0.064</text>\r\n",
       "<text text-anchor=\"start\" x=\"583.5\" y=\"-141.8\" font-family=\"Helvetica,sans-Serif\" font-size=\"14.00\">samples = 60</text>\r\n",
       "<text text-anchor=\"start\" x=\"582.5\" y=\"-126.8\" font-family=\"Helvetica,sans-Serif\" font-size=\"14.00\">value = [58, 2]</text>\r\n",
       "<text text-anchor=\"start\" x=\"587\" y=\"-111.8\" font-family=\"Helvetica,sans-Serif\" font-size=\"14.00\">class = male</text>\r\n",
       "</g>\r\n",
       "<!-- 8&#45;&gt;9 -->\r\n",
       "<g id=\"edge9\" class=\"edge\"><title>8&#45;&gt;9</title>\r\n",
       "<path fill=\"none\" stroke=\"black\" d=\"M627,-222.907C627,-214.649 627,-205.864 627,-197.302\"/>\r\n",
       "<polygon fill=\"black\" stroke=\"black\" points=\"630.5,-197.021 627,-187.021 623.5,-197.021 630.5,-197.021\"/>\r\n",
       "</g>\r\n",
       "<!-- 12 -->\r\n",
       "<g id=\"node13\" class=\"node\"><title>12</title>\r\n",
       "<path fill=\"#fbebdf\" stroke=\"black\" d=\"M896.5,-187C896.5,-187 773.5,-187 773.5,-187 767.5,-187 761.5,-181 761.5,-175 761.5,-175 761.5,-116 761.5,-116 761.5,-110 767.5,-104 773.5,-104 773.5,-104 896.5,-104 896.5,-104 902.5,-104 908.5,-110 908.5,-116 908.5,-116 908.5,-175 908.5,-175 908.5,-181 902.5,-187 896.5,-187\"/>\r\n",
       "<text text-anchor=\"start\" x=\"769.5\" y=\"-171.8\" font-family=\"Helvetica,sans-Serif\" font-size=\"14.00\">reading score ≤ 91.5</text>\r\n",
       "<text text-anchor=\"start\" x=\"797.5\" y=\"-156.8\" font-family=\"Helvetica,sans-Serif\" font-size=\"14.00\">gini = 0.496</text>\r\n",
       "<text text-anchor=\"start\" x=\"791.5\" y=\"-141.8\" font-family=\"Helvetica,sans-Serif\" font-size=\"14.00\">samples = 46</text>\r\n",
       "<text text-anchor=\"start\" x=\"786.5\" y=\"-126.8\" font-family=\"Helvetica,sans-Serif\" font-size=\"14.00\">value = [25, 21]</text>\r\n",
       "<text text-anchor=\"start\" x=\"795\" y=\"-111.8\" font-family=\"Helvetica,sans-Serif\" font-size=\"14.00\">class = male</text>\r\n",
       "</g>\r\n",
       "<!-- 8&#45;&gt;12 -->\r\n",
       "<g id=\"edge12\" class=\"edge\"><title>8&#45;&gt;12</title>\r\n",
       "<path fill=\"none\" stroke=\"black\" d=\"M692.527,-226.641C712.028,-215.672 733.63,-203.52 753.994,-192.066\"/>\r\n",
       "<polygon fill=\"black\" stroke=\"black\" points=\"755.943,-194.986 762.943,-187.032 752.511,-188.884 755.943,-194.986\"/>\r\n",
       "</g>\r\n",
       "<!-- 10 -->\r\n",
       "<g id=\"node11\" class=\"node\"><title>10</title>\r\n",
       "<path fill=\"#e6833d\" stroke=\"black\" d=\"M635.5,-68C635.5,-68 554.5,-68 554.5,-68 548.5,-68 542.5,-62 542.5,-56 542.5,-56 542.5,-12 542.5,-12 542.5,-6 548.5,-0 554.5,-0 554.5,-0 635.5,-0 635.5,-0 641.5,-0 647.5,-6 647.5,-12 647.5,-12 647.5,-56 647.5,-56 647.5,-62 641.5,-68 635.5,-68\"/>\r\n",
       "<text text-anchor=\"start\" x=\"557.5\" y=\"-52.8\" font-family=\"Helvetica,sans-Serif\" font-size=\"14.00\">gini = 0.037</text>\r\n",
       "<text text-anchor=\"start\" x=\"551.5\" y=\"-37.8\" font-family=\"Helvetica,sans-Serif\" font-size=\"14.00\">samples = 53</text>\r\n",
       "<text text-anchor=\"start\" x=\"550.5\" y=\"-22.8\" font-family=\"Helvetica,sans-Serif\" font-size=\"14.00\">value = [52, 1]</text>\r\n",
       "<text text-anchor=\"start\" x=\"555\" y=\"-7.8\" font-family=\"Helvetica,sans-Serif\" font-size=\"14.00\">class = male</text>\r\n",
       "</g>\r\n",
       "<!-- 9&#45;&gt;10 -->\r\n",
       "<g id=\"edge10\" class=\"edge\"><title>9&#45;&gt;10</title>\r\n",
       "<path fill=\"none\" stroke=\"black\" d=\"M615.084,-103.726C612.632,-95.3351 610.043,-86.4745 607.568,-78.0072\"/>\r\n",
       "<polygon fill=\"black\" stroke=\"black\" points=\"610.896,-76.9163 604.731,-68.2996 604.177,-78.8799 610.896,-76.9163\"/>\r\n",
       "</g>\r\n",
       "<!-- 11 -->\r\n",
       "<g id=\"node12\" class=\"node\"><title>11</title>\r\n",
       "<path fill=\"#e9965a\" stroke=\"black\" d=\"M750.5,-68C750.5,-68 677.5,-68 677.5,-68 671.5,-68 665.5,-62 665.5,-56 665.5,-56 665.5,-12 665.5,-12 665.5,-6 671.5,-0 677.5,-0 677.5,-0 750.5,-0 750.5,-0 756.5,-0 762.5,-6 762.5,-12 762.5,-12 762.5,-56 762.5,-56 762.5,-62 756.5,-68 750.5,-68\"/>\r\n",
       "<text text-anchor=\"start\" x=\"676.5\" y=\"-52.8\" font-family=\"Helvetica,sans-Serif\" font-size=\"14.00\">gini = 0.245</text>\r\n",
       "<text text-anchor=\"start\" x=\"674.5\" y=\"-37.8\" font-family=\"Helvetica,sans-Serif\" font-size=\"14.00\">samples = 7</text>\r\n",
       "<text text-anchor=\"start\" x=\"673.5\" y=\"-22.8\" font-family=\"Helvetica,sans-Serif\" font-size=\"14.00\">value = [6, 1]</text>\r\n",
       "<text text-anchor=\"start\" x=\"674\" y=\"-7.8\" font-family=\"Helvetica,sans-Serif\" font-size=\"14.00\">class = male</text>\r\n",
       "</g>\r\n",
       "<!-- 9&#45;&gt;11 -->\r\n",
       "<g id=\"edge11\" class=\"edge\"><title>9&#45;&gt;11</title>\r\n",
       "<path fill=\"none\" stroke=\"black\" d=\"M659.396,-103.726C666.497,-94.7878 674.022,-85.3168 681.142,-76.3558\"/>\r\n",
       "<polygon fill=\"black\" stroke=\"black\" points=\"684.062,-78.3065 687.543,-68.2996 678.582,-73.9519 684.062,-78.3065\"/>\r\n",
       "</g>\r\n",
       "<!-- 13 -->\r\n",
       "<g id=\"node14\" class=\"node\"><title>13</title>\r\n",
       "<path fill=\"#73baed\" stroke=\"black\" d=\"M877.5,-68C877.5,-68 792.5,-68 792.5,-68 786.5,-68 780.5,-62 780.5,-56 780.5,-56 780.5,-12 780.5,-12 780.5,-6 786.5,-0 792.5,-0 792.5,-0 877.5,-0 877.5,-0 883.5,-0 889.5,-6 889.5,-12 889.5,-12 889.5,-56 889.5,-56 889.5,-62 883.5,-68 877.5,-68\"/>\r\n",
       "<text text-anchor=\"start\" x=\"797.5\" y=\"-52.8\" font-family=\"Helvetica,sans-Serif\" font-size=\"14.00\">gini = 0.351</text>\r\n",
       "<text text-anchor=\"start\" x=\"791.5\" y=\"-37.8\" font-family=\"Helvetica,sans-Serif\" font-size=\"14.00\">samples = 22</text>\r\n",
       "<text text-anchor=\"start\" x=\"790.5\" y=\"-22.8\" font-family=\"Helvetica,sans-Serif\" font-size=\"14.00\">value = [5, 17]</text>\r\n",
       "<text text-anchor=\"start\" x=\"788.5\" y=\"-7.8\" font-family=\"Helvetica,sans-Serif\" font-size=\"14.00\">class = female</text>\r\n",
       "</g>\r\n",
       "<!-- 12&#45;&gt;13 -->\r\n",
       "<g id=\"edge13\" class=\"edge\"><title>12&#45;&gt;13</title>\r\n",
       "<path fill=\"none\" stroke=\"black\" d=\"M835,-103.726C835,-95.5175 835,-86.8595 835,-78.56\"/>\r\n",
       "<polygon fill=\"black\" stroke=\"black\" points=\"838.5,-78.2996 835,-68.2996 831.5,-78.2996 838.5,-78.2996\"/>\r\n",
       "</g>\r\n",
       "<!-- 14 -->\r\n",
       "<g id=\"node15\" class=\"node\"><title>14</title>\r\n",
       "<path fill=\"#ea9a61\" stroke=\"black\" d=\"M1000.5,-68C1000.5,-68 919.5,-68 919.5,-68 913.5,-68 907.5,-62 907.5,-56 907.5,-56 907.5,-12 907.5,-12 907.5,-6 913.5,-0 919.5,-0 919.5,-0 1000.5,-0 1000.5,-0 1006.5,-0 1012.5,-6 1012.5,-12 1012.5,-12 1012.5,-56 1012.5,-56 1012.5,-62 1006.5,-68 1000.5,-68\"/>\r\n",
       "<text text-anchor=\"start\" x=\"922.5\" y=\"-52.8\" font-family=\"Helvetica,sans-Serif\" font-size=\"14.00\">gini = 0.278</text>\r\n",
       "<text text-anchor=\"start\" x=\"916.5\" y=\"-37.8\" font-family=\"Helvetica,sans-Serif\" font-size=\"14.00\">samples = 24</text>\r\n",
       "<text text-anchor=\"start\" x=\"915.5\" y=\"-22.8\" font-family=\"Helvetica,sans-Serif\" font-size=\"14.00\">value = [20, 4]</text>\r\n",
       "<text text-anchor=\"start\" x=\"920\" y=\"-7.8\" font-family=\"Helvetica,sans-Serif\" font-size=\"14.00\">class = male</text>\r\n",
       "</g>\r\n",
       "<!-- 12&#45;&gt;14 -->\r\n",
       "<g id=\"edge14\" class=\"edge\"><title>12&#45;&gt;14</title>\r\n",
       "<path fill=\"none\" stroke=\"black\" d=\"M881.545,-103.726C892.27,-94.3318 903.666,-84.349 914.351,-74.9883\"/>\r\n",
       "<polygon fill=\"black\" stroke=\"black\" points=\"916.771,-77.5217 921.987,-68.2996 912.158,-72.2562 916.771,-77.5217\"/>\r\n",
       "</g>\r\n",
       "</g>\r\n",
       "</svg>\r\n"
      ],
      "text/plain": [
       "<graphviz.files.Source at 0x28e25a90730>"
      ]
     },
     "execution_count": 24,
     "metadata": {},
     "output_type": "execute_result"
    }
   ],
   "source": [
    "plot_tree_classification(dt, features, student_test.gender.unique())"
   ]
  },
  {
   "cell_type": "code",
   "execution_count": 25,
   "metadata": {},
   "outputs": [
    {
     "name": "stdout",
     "output_type": "stream",
     "text": [
      "Accuracy on training set: 0.6928571428571428\n",
      "Accuracy on test set: 0.7166666666666667\n"
     ]
    }
   ],
   "source": [
    "predictOnTrainSet = dt.predict(student_train[features])\n",
    "predictOnTestSet = dt.predict(student_test[features])\n",
    "\n",
    "accuracyTrain = calculate_accuracy(predictOnTrainSet, student_train.gender)\n",
    "accuracyTest = calculate_accuracy(predictOnTestSet, student_test.gender)\n",
    "\n",
    "print(\"Accuracy on training set: \" + str(accuracyTrain))\n",
    "print(\"Accuracy on test set: \" + str(accuracyTest))"
   ]
  },
  {
   "cell_type": "code",
   "execution_count": null,
   "metadata": {},
   "outputs": [],
   "source": []
  }
 ],
 "metadata": {
  "kernelspec": {
   "display_name": "Python 3",
   "language": "python",
   "name": "python3"
  },
  "language_info": {
   "codemirror_mode": {
    "name": "ipython",
    "version": 3
   },
   "file_extension": ".py",
   "mimetype": "text/x-python",
   "name": "python",
   "nbconvert_exporter": "python",
   "pygments_lexer": "ipython3",
   "version": "3.8.5"
  }
 },
 "nbformat": 4,
 "nbformat_minor": 4
}
